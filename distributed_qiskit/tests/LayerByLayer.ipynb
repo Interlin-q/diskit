{
 "cells": [
  {
   "cell_type": "code",
   "execution_count": 28,
   "id": "64467c30",
   "metadata": {
    "ExecuteTime": {
     "end_time": "2022-11-15T08:24:03.285400Z",
     "start_time": "2022-11-15T08:24:01.294681Z"
    }
   },
   "outputs": [],
   "source": [
    "from qiskit.circuit import QuantumCircuit\n",
    "from qiskit import transpile, assemble, Aer, IBMQ, execute\n",
    "from qiskit.visualization import plot_histogram, plot_bloch_multivector\n",
    "from sympy import Matrix\n",
    "import matplotlib.pyplot as plt\n",
    "from qiskit.circuit.instruction import Instruction\n",
    "from qiskit.circuit.quantumcircuitdata import QuantumCircuitData, CircuitInstruction\n",
    "from qiskit.circuit.classicalregister import ClassicalRegister, Clbit\n",
    "from qiskit.circuit.quantumregister import QuantumRegister, Qubit\n",
    "from qiskit.circuit.library.standard_gates.h import *\n",
    "import qiskit\n",
    "import numpy as np\n",
    "\n",
    "from distributed_qiskit.circuit_remapper import *\n",
    "from distributed_qiskit.components.inlin_layer import *\n",
    "\n",
    "import warnings\n",
    "\n",
    "warnings.filterwarnings(\"ignore\")"
   ]
  },
  {
   "cell_type": "code",
   "execution_count": null,
   "outputs": [],
   "source": [],
   "metadata": {
    "collapsed": false
   }
  },
  {
   "cell_type": "code",
   "execution_count": 22,
   "id": "225e8071",
   "metadata": {
    "ExecuteTime": {
     "end_time": "2022-11-15T08:24:04.025672Z",
     "start_time": "2022-11-15T08:24:03.285400Z"
    }
   },
   "outputs": [
    {
     "ename": "MissingOptionalLibraryError",
     "evalue": "\"The 'pylatexenc' library is required to use 'MatplotlibDrawer'. You can install it with 'pip install pylatexenc'.\"",
     "output_type": "error",
     "traceback": [
      "\u001B[0;31m---------------------------------------------------------------------------\u001B[0m",
      "\u001B[0;31mMissingOptionalLibraryError\u001B[0m               Traceback (most recent call last)",
      "Cell \u001B[0;32mIn [22], line 14\u001B[0m\n\u001B[1;32m     12\u001B[0m qc\u001B[38;5;241m.\u001B[39mcx(\u001B[38;5;241m1\u001B[39m,\u001B[38;5;241m2\u001B[39m)\n\u001B[1;32m     13\u001B[0m qc\u001B[38;5;241m.\u001B[39mmeasure_all()\n\u001B[0;32m---> 14\u001B[0m \u001B[43mqc\u001B[49m\u001B[38;5;241;43m.\u001B[39;49m\u001B[43mdraw\u001B[49m\u001B[43m(\u001B[49m\u001B[43moutput\u001B[49m\u001B[38;5;241;43m=\u001B[39;49m\u001B[38;5;124;43m'\u001B[39;49m\u001B[38;5;124;43mmpl\u001B[39;49m\u001B[38;5;124;43m'\u001B[39;49m\u001B[43m)\u001B[49m\n",
      "File \u001B[0;32m~/Software/Misc/distributed-qiskit/venv/lib/python3.9/site-packages/qiskit/circuit/quantumcircuit.py:1957\u001B[0m, in \u001B[0;36mQuantumCircuit.draw\u001B[0;34m(self, output, scale, filename, style, interactive, plot_barriers, reverse_bits, justify, vertical_compression, idle_wires, with_layout, fold, ax, initial_state, cregbundle, wire_order)\u001B[0m\n\u001B[1;32m   1954\u001B[0m \u001B[38;5;66;03m# pylint: disable=cyclic-import\u001B[39;00m\n\u001B[1;32m   1955\u001B[0m \u001B[38;5;28;01mfrom\u001B[39;00m \u001B[38;5;21;01mqiskit\u001B[39;00m\u001B[38;5;21;01m.\u001B[39;00m\u001B[38;5;21;01mvisualization\u001B[39;00m \u001B[38;5;28;01mimport\u001B[39;00m circuit_drawer\n\u001B[0;32m-> 1957\u001B[0m \u001B[38;5;28;01mreturn\u001B[39;00m \u001B[43mcircuit_drawer\u001B[49m\u001B[43m(\u001B[49m\n\u001B[1;32m   1958\u001B[0m \u001B[43m    \u001B[49m\u001B[38;5;28;43mself\u001B[39;49m\u001B[43m,\u001B[49m\n\u001B[1;32m   1959\u001B[0m \u001B[43m    \u001B[49m\u001B[43mscale\u001B[49m\u001B[38;5;241;43m=\u001B[39;49m\u001B[43mscale\u001B[49m\u001B[43m,\u001B[49m\n\u001B[1;32m   1960\u001B[0m \u001B[43m    \u001B[49m\u001B[43mfilename\u001B[49m\u001B[38;5;241;43m=\u001B[39;49m\u001B[43mfilename\u001B[49m\u001B[43m,\u001B[49m\n\u001B[1;32m   1961\u001B[0m \u001B[43m    \u001B[49m\u001B[43mstyle\u001B[49m\u001B[38;5;241;43m=\u001B[39;49m\u001B[43mstyle\u001B[49m\u001B[43m,\u001B[49m\n\u001B[1;32m   1962\u001B[0m \u001B[43m    \u001B[49m\u001B[43moutput\u001B[49m\u001B[38;5;241;43m=\u001B[39;49m\u001B[43moutput\u001B[49m\u001B[43m,\u001B[49m\n\u001B[1;32m   1963\u001B[0m \u001B[43m    \u001B[49m\u001B[43minteractive\u001B[49m\u001B[38;5;241;43m=\u001B[39;49m\u001B[43minteractive\u001B[49m\u001B[43m,\u001B[49m\n\u001B[1;32m   1964\u001B[0m \u001B[43m    \u001B[49m\u001B[43mplot_barriers\u001B[49m\u001B[38;5;241;43m=\u001B[39;49m\u001B[43mplot_barriers\u001B[49m\u001B[43m,\u001B[49m\n\u001B[1;32m   1965\u001B[0m \u001B[43m    \u001B[49m\u001B[43mreverse_bits\u001B[49m\u001B[38;5;241;43m=\u001B[39;49m\u001B[43mreverse_bits\u001B[49m\u001B[43m,\u001B[49m\n\u001B[1;32m   1966\u001B[0m \u001B[43m    \u001B[49m\u001B[43mjustify\u001B[49m\u001B[38;5;241;43m=\u001B[39;49m\u001B[43mjustify\u001B[49m\u001B[43m,\u001B[49m\n\u001B[1;32m   1967\u001B[0m \u001B[43m    \u001B[49m\u001B[43mvertical_compression\u001B[49m\u001B[38;5;241;43m=\u001B[39;49m\u001B[43mvertical_compression\u001B[49m\u001B[43m,\u001B[49m\n\u001B[1;32m   1968\u001B[0m \u001B[43m    \u001B[49m\u001B[43midle_wires\u001B[49m\u001B[38;5;241;43m=\u001B[39;49m\u001B[43midle_wires\u001B[49m\u001B[43m,\u001B[49m\n\u001B[1;32m   1969\u001B[0m \u001B[43m    \u001B[49m\u001B[43mwith_layout\u001B[49m\u001B[38;5;241;43m=\u001B[39;49m\u001B[43mwith_layout\u001B[49m\u001B[43m,\u001B[49m\n\u001B[1;32m   1970\u001B[0m \u001B[43m    \u001B[49m\u001B[43mfold\u001B[49m\u001B[38;5;241;43m=\u001B[39;49m\u001B[43mfold\u001B[49m\u001B[43m,\u001B[49m\n\u001B[1;32m   1971\u001B[0m \u001B[43m    \u001B[49m\u001B[43max\u001B[49m\u001B[38;5;241;43m=\u001B[39;49m\u001B[43max\u001B[49m\u001B[43m,\u001B[49m\n\u001B[1;32m   1972\u001B[0m \u001B[43m    \u001B[49m\u001B[43minitial_state\u001B[49m\u001B[38;5;241;43m=\u001B[39;49m\u001B[43minitial_state\u001B[49m\u001B[43m,\u001B[49m\n\u001B[1;32m   1973\u001B[0m \u001B[43m    \u001B[49m\u001B[43mcregbundle\u001B[49m\u001B[38;5;241;43m=\u001B[39;49m\u001B[43mcregbundle\u001B[49m\u001B[43m,\u001B[49m\n\u001B[1;32m   1974\u001B[0m \u001B[43m    \u001B[49m\u001B[43mwire_order\u001B[49m\u001B[38;5;241;43m=\u001B[39;49m\u001B[43mwire_order\u001B[49m\u001B[43m,\u001B[49m\n\u001B[1;32m   1975\u001B[0m \u001B[43m\u001B[49m\u001B[43m)\u001B[49m\n",
      "File \u001B[0;32m~/Software/Misc/distributed-qiskit/venv/lib/python3.9/site-packages/qiskit/visualization/circuit/circuit_visualization.py:263\u001B[0m, in \u001B[0;36mcircuit_drawer\u001B[0;34m(circuit, scale, filename, style, output, interactive, plot_barriers, reverse_bits, justify, vertical_compression, idle_wires, with_layout, fold, ax, initial_state, cregbundle, wire_order)\u001B[0m\n\u001B[1;32m    248\u001B[0m     \u001B[38;5;28;01mreturn\u001B[39;00m _generate_latex_source(\n\u001B[1;32m    249\u001B[0m         circuit,\n\u001B[1;32m    250\u001B[0m         filename\u001B[38;5;241m=\u001B[39mfilename,\n\u001B[0;32m   (...)\u001B[0m\n\u001B[1;32m    260\u001B[0m         wire_order\u001B[38;5;241m=\u001B[39mwire_order,\n\u001B[1;32m    261\u001B[0m     )\n\u001B[1;32m    262\u001B[0m \u001B[38;5;28;01melif\u001B[39;00m output \u001B[38;5;241m==\u001B[39m \u001B[38;5;124m\"\u001B[39m\u001B[38;5;124mmpl\u001B[39m\u001B[38;5;124m\"\u001B[39m:\n\u001B[0;32m--> 263\u001B[0m     image \u001B[38;5;241m=\u001B[39m \u001B[43m_matplotlib_circuit_drawer\u001B[49m\u001B[43m(\u001B[49m\n\u001B[1;32m    264\u001B[0m \u001B[43m        \u001B[49m\u001B[43mcircuit\u001B[49m\u001B[43m,\u001B[49m\n\u001B[1;32m    265\u001B[0m \u001B[43m        \u001B[49m\u001B[43mscale\u001B[49m\u001B[38;5;241;43m=\u001B[39;49m\u001B[43mscale\u001B[49m\u001B[43m,\u001B[49m\n\u001B[1;32m    266\u001B[0m \u001B[43m        \u001B[49m\u001B[43mfilename\u001B[49m\u001B[38;5;241;43m=\u001B[39;49m\u001B[43mfilename\u001B[49m\u001B[43m,\u001B[49m\n\u001B[1;32m    267\u001B[0m \u001B[43m        \u001B[49m\u001B[43mstyle\u001B[49m\u001B[38;5;241;43m=\u001B[39;49m\u001B[43mstyle\u001B[49m\u001B[43m,\u001B[49m\n\u001B[1;32m    268\u001B[0m \u001B[43m        \u001B[49m\u001B[43mplot_barriers\u001B[49m\u001B[38;5;241;43m=\u001B[39;49m\u001B[43mplot_barriers\u001B[49m\u001B[43m,\u001B[49m\n\u001B[1;32m    269\u001B[0m \u001B[43m        \u001B[49m\u001B[43mreverse_bits\u001B[49m\u001B[38;5;241;43m=\u001B[39;49m\u001B[43mreverse_bits\u001B[49m\u001B[43m,\u001B[49m\n\u001B[1;32m    270\u001B[0m \u001B[43m        \u001B[49m\u001B[43mjustify\u001B[49m\u001B[38;5;241;43m=\u001B[39;49m\u001B[43mjustify\u001B[49m\u001B[43m,\u001B[49m\n\u001B[1;32m    271\u001B[0m \u001B[43m        \u001B[49m\u001B[43midle_wires\u001B[49m\u001B[38;5;241;43m=\u001B[39;49m\u001B[43midle_wires\u001B[49m\u001B[43m,\u001B[49m\n\u001B[1;32m    272\u001B[0m \u001B[43m        \u001B[49m\u001B[43mwith_layout\u001B[49m\u001B[38;5;241;43m=\u001B[39;49m\u001B[43mwith_layout\u001B[49m\u001B[43m,\u001B[49m\n\u001B[1;32m    273\u001B[0m \u001B[43m        \u001B[49m\u001B[43mfold\u001B[49m\u001B[38;5;241;43m=\u001B[39;49m\u001B[43mfold\u001B[49m\u001B[43m,\u001B[49m\n\u001B[1;32m    274\u001B[0m \u001B[43m        \u001B[49m\u001B[43max\u001B[49m\u001B[38;5;241;43m=\u001B[39;49m\u001B[43max\u001B[49m\u001B[43m,\u001B[49m\n\u001B[1;32m    275\u001B[0m \u001B[43m        \u001B[49m\u001B[43minitial_state\u001B[49m\u001B[38;5;241;43m=\u001B[39;49m\u001B[43minitial_state\u001B[49m\u001B[43m,\u001B[49m\n\u001B[1;32m    276\u001B[0m \u001B[43m        \u001B[49m\u001B[43mcregbundle\u001B[49m\u001B[38;5;241;43m=\u001B[39;49m\u001B[43mcregbundle\u001B[49m\u001B[43m,\u001B[49m\n\u001B[1;32m    277\u001B[0m \u001B[43m        \u001B[49m\u001B[43mwire_order\u001B[49m\u001B[38;5;241;43m=\u001B[39;49m\u001B[43mwire_order\u001B[49m\u001B[43m,\u001B[49m\n\u001B[1;32m    278\u001B[0m \u001B[43m    \u001B[49m\u001B[43m)\u001B[49m\n\u001B[1;32m    279\u001B[0m \u001B[38;5;28;01melse\u001B[39;00m:\n\u001B[1;32m    280\u001B[0m     \u001B[38;5;28;01mraise\u001B[39;00m VisualizationError(\n\u001B[1;32m    281\u001B[0m         \u001B[38;5;124m\"\u001B[39m\u001B[38;5;124mInvalid output type \u001B[39m\u001B[38;5;132;01m%s\u001B[39;00m\u001B[38;5;124m selected. The only valid choices \u001B[39m\u001B[38;5;124m\"\u001B[39m\n\u001B[1;32m    282\u001B[0m         \u001B[38;5;124m\"\u001B[39m\u001B[38;5;124mare text, latex, latex_source, and mpl\u001B[39m\u001B[38;5;124m\"\u001B[39m \u001B[38;5;241m%\u001B[39m output\n\u001B[1;32m    283\u001B[0m     )\n",
      "File \u001B[0;32m~/Software/Misc/distributed-qiskit/venv/lib/python3.9/site-packages/qiskit/visualization/circuit/circuit_visualization.py:643\u001B[0m, in \u001B[0;36m_matplotlib_circuit_drawer\u001B[0;34m(circuit, scale, filename, style, plot_barriers, reverse_bits, justify, idle_wires, with_layout, fold, ax, initial_state, cregbundle, wire_order)\u001B[0m\n\u001B[1;32m    640\u001B[0m \u001B[38;5;28;01mif\u001B[39;00m fold \u001B[38;5;129;01mis\u001B[39;00m \u001B[38;5;28;01mNone\u001B[39;00m:\n\u001B[1;32m    641\u001B[0m     fold \u001B[38;5;241m=\u001B[39m \u001B[38;5;241m25\u001B[39m\n\u001B[0;32m--> 643\u001B[0m qcd \u001B[38;5;241m=\u001B[39m \u001B[43m_matplotlib\u001B[49m\u001B[38;5;241;43m.\u001B[39;49m\u001B[43mMatplotlibDrawer\u001B[49m\u001B[43m(\u001B[49m\n\u001B[1;32m    644\u001B[0m \u001B[43m    \u001B[49m\u001B[43mqubits\u001B[49m\u001B[43m,\u001B[49m\n\u001B[1;32m    645\u001B[0m \u001B[43m    \u001B[49m\u001B[43mclbits\u001B[49m\u001B[43m,\u001B[49m\n\u001B[1;32m    646\u001B[0m \u001B[43m    \u001B[49m\u001B[43mnodes\u001B[49m\u001B[43m,\u001B[49m\n\u001B[1;32m    647\u001B[0m \u001B[43m    \u001B[49m\u001B[43mscale\u001B[49m\u001B[38;5;241;43m=\u001B[39;49m\u001B[43mscale\u001B[49m\u001B[43m,\u001B[49m\n\u001B[1;32m    648\u001B[0m \u001B[43m    \u001B[49m\u001B[43mstyle\u001B[49m\u001B[38;5;241;43m=\u001B[39;49m\u001B[43mstyle\u001B[49m\u001B[43m,\u001B[49m\n\u001B[1;32m    649\u001B[0m \u001B[43m    \u001B[49m\u001B[43mreverse_bits\u001B[49m\u001B[38;5;241;43m=\u001B[39;49m\u001B[43mreverse_bits\u001B[49m\u001B[43m,\u001B[49m\n\u001B[1;32m    650\u001B[0m \u001B[43m    \u001B[49m\u001B[43mplot_barriers\u001B[49m\u001B[38;5;241;43m=\u001B[39;49m\u001B[43mplot_barriers\u001B[49m\u001B[43m,\u001B[49m\n\u001B[1;32m    651\u001B[0m \u001B[43m    \u001B[49m\u001B[43mlayout\u001B[49m\u001B[38;5;241;43m=\u001B[39;49m\u001B[38;5;28;43;01mNone\u001B[39;49;00m\u001B[43m,\u001B[49m\n\u001B[1;32m    652\u001B[0m \u001B[43m    \u001B[49m\u001B[43mfold\u001B[49m\u001B[38;5;241;43m=\u001B[39;49m\u001B[43mfold\u001B[49m\u001B[43m,\u001B[49m\n\u001B[1;32m    653\u001B[0m \u001B[43m    \u001B[49m\u001B[43max\u001B[49m\u001B[38;5;241;43m=\u001B[39;49m\u001B[43max\u001B[49m\u001B[43m,\u001B[49m\n\u001B[1;32m    654\u001B[0m \u001B[43m    \u001B[49m\u001B[43minitial_state\u001B[49m\u001B[38;5;241;43m=\u001B[39;49m\u001B[43minitial_state\u001B[49m\u001B[43m,\u001B[49m\n\u001B[1;32m    655\u001B[0m \u001B[43m    \u001B[49m\u001B[43mcregbundle\u001B[49m\u001B[38;5;241;43m=\u001B[39;49m\u001B[43mcregbundle\u001B[49m\u001B[43m \u001B[49m\u001B[38;5;28;43;01mif\u001B[39;49;00m\u001B[43m \u001B[49m\u001B[43mcregbundle\u001B[49m\u001B[43m \u001B[49m\u001B[38;5;129;43;01mis\u001B[39;49;00m\u001B[43m \u001B[49m\u001B[38;5;129;43;01mnot\u001B[39;49;00m\u001B[43m \u001B[49m\u001B[38;5;28;43;01mNone\u001B[39;49;00m\u001B[43m \u001B[49m\u001B[38;5;28;43;01melse\u001B[39;49;00m\u001B[43m \u001B[49m\u001B[38;5;28;43;01mTrue\u001B[39;49;00m\u001B[43m,\u001B[49m\n\u001B[1;32m    656\u001B[0m \u001B[43m    \u001B[49m\u001B[43mglobal_phase\u001B[49m\u001B[38;5;241;43m=\u001B[39;49m\u001B[38;5;28;43;01mNone\u001B[39;49;00m\u001B[43m,\u001B[49m\n\u001B[1;32m    657\u001B[0m \u001B[43m    \u001B[49m\u001B[43mcalibrations\u001B[49m\u001B[38;5;241;43m=\u001B[39;49m\u001B[38;5;28;43;01mNone\u001B[39;49;00m\u001B[43m,\u001B[49m\n\u001B[1;32m    658\u001B[0m \u001B[43m    \u001B[49m\u001B[43mqregs\u001B[49m\u001B[38;5;241;43m=\u001B[39;49m\u001B[38;5;28;43;01mNone\u001B[39;49;00m\u001B[43m,\u001B[49m\n\u001B[1;32m    659\u001B[0m \u001B[43m    \u001B[49m\u001B[43mcregs\u001B[49m\u001B[38;5;241;43m=\u001B[39;49m\u001B[38;5;28;43;01mNone\u001B[39;49;00m\u001B[43m,\u001B[49m\n\u001B[1;32m    660\u001B[0m \u001B[43m    \u001B[49m\u001B[43mwith_layout\u001B[49m\u001B[38;5;241;43m=\u001B[39;49m\u001B[43mwith_layout\u001B[49m\u001B[43m,\u001B[49m\n\u001B[1;32m    661\u001B[0m \u001B[43m    \u001B[49m\u001B[43mcircuit\u001B[49m\u001B[38;5;241;43m=\u001B[39;49m\u001B[43mcircuit\u001B[49m\u001B[43m,\u001B[49m\n\u001B[1;32m    662\u001B[0m \u001B[43m\u001B[49m\u001B[43m)\u001B[49m\n\u001B[1;32m    663\u001B[0m \u001B[38;5;28;01mreturn\u001B[39;00m qcd\u001B[38;5;241m.\u001B[39mdraw(filename)\n",
      "File \u001B[0;32m~/Software/Misc/distributed-qiskit/venv/lib/python3.9/site-packages/qiskit/utils/classtools.py:117\u001B[0m, in \u001B[0;36m_WrappedMethod.__get__.<locals>.out\u001B[0;34m(*args, **kwargs)\u001B[0m\n\u001B[1;32m    115\u001B[0m \u001B[38;5;28;01mfor\u001B[39;00m callback \u001B[38;5;129;01min\u001B[39;00m \u001B[38;5;28mself\u001B[39m\u001B[38;5;241m.\u001B[39m_before:\n\u001B[1;32m    116\u001B[0m     callback\u001B[38;5;241m.\u001B[39m\u001B[38;5;21m__get__\u001B[39m(obj, objtype)(\u001B[38;5;241m*\u001B[39margs, \u001B[38;5;241m*\u001B[39m\u001B[38;5;241m*\u001B[39mkwargs)\n\u001B[0;32m--> 117\u001B[0m retval \u001B[38;5;241m=\u001B[39m \u001B[43mmethod\u001B[49m\u001B[43m(\u001B[49m\u001B[38;5;241;43m*\u001B[39;49m\u001B[43margs\u001B[49m\u001B[43m,\u001B[49m\u001B[43m \u001B[49m\u001B[38;5;241;43m*\u001B[39;49m\u001B[38;5;241;43m*\u001B[39;49m\u001B[43mkwargs\u001B[49m\u001B[43m)\u001B[49m\n\u001B[1;32m    118\u001B[0m \u001B[38;5;28;01mfor\u001B[39;00m callback \u001B[38;5;129;01min\u001B[39;00m \u001B[38;5;28mself\u001B[39m\u001B[38;5;241m.\u001B[39m_after:\n\u001B[1;32m    119\u001B[0m     callback\u001B[38;5;241m.\u001B[39m\u001B[38;5;21m__get__\u001B[39m(obj, objtype)(\u001B[38;5;241m*\u001B[39margs, \u001B[38;5;241m*\u001B[39m\u001B[38;5;241m*\u001B[39mkwargs)\n",
      "File \u001B[0;32m~/Software/Misc/distributed-qiskit/venv/lib/python3.9/site-packages/qiskit/utils/classtools.py:116\u001B[0m, in \u001B[0;36m_WrappedMethod.__get__.<locals>.out\u001B[0;34m(*args, **kwargs)\u001B[0m\n\u001B[1;32m    113\u001B[0m \u001B[38;5;129m@functools\u001B[39m\u001B[38;5;241m.\u001B[39mwraps(method)\n\u001B[1;32m    114\u001B[0m \u001B[38;5;28;01mdef\u001B[39;00m \u001B[38;5;21mout\u001B[39m(\u001B[38;5;241m*\u001B[39margs, \u001B[38;5;241m*\u001B[39m\u001B[38;5;241m*\u001B[39mkwargs):\n\u001B[1;32m    115\u001B[0m     \u001B[38;5;28;01mfor\u001B[39;00m callback \u001B[38;5;129;01min\u001B[39;00m \u001B[38;5;28mself\u001B[39m\u001B[38;5;241m.\u001B[39m_before:\n\u001B[0;32m--> 116\u001B[0m         \u001B[43mcallback\u001B[49m\u001B[38;5;241;43m.\u001B[39;49m\u001B[38;5;21;43m__get__\u001B[39;49m\u001B[43m(\u001B[49m\u001B[43mobj\u001B[49m\u001B[43m,\u001B[49m\u001B[43m \u001B[49m\u001B[43mobjtype\u001B[49m\u001B[43m)\u001B[49m\u001B[43m(\u001B[49m\u001B[38;5;241;43m*\u001B[39;49m\u001B[43margs\u001B[49m\u001B[43m,\u001B[49m\u001B[43m \u001B[49m\u001B[38;5;241;43m*\u001B[39;49m\u001B[38;5;241;43m*\u001B[39;49m\u001B[43mkwargs\u001B[49m\u001B[43m)\u001B[49m\n\u001B[1;32m    117\u001B[0m     retval \u001B[38;5;241m=\u001B[39m method(\u001B[38;5;241m*\u001B[39margs, \u001B[38;5;241m*\u001B[39m\u001B[38;5;241m*\u001B[39mkwargs)\n\u001B[1;32m    118\u001B[0m     \u001B[38;5;28;01mfor\u001B[39;00m callback \u001B[38;5;129;01min\u001B[39;00m \u001B[38;5;28mself\u001B[39m\u001B[38;5;241m.\u001B[39m_after:\n",
      "File \u001B[0;32m~/Software/Misc/distributed-qiskit/venv/lib/python3.9/site-packages/qiskit/utils/lazy_tester.py:39\u001B[0m, in \u001B[0;36m_RequireNow.__call__\u001B[0;34m(self, *_args, **_kwargs)\u001B[0m\n\u001B[1;32m     38\u001B[0m \u001B[38;5;28;01mdef\u001B[39;00m \u001B[38;5;21m__call__\u001B[39m(\u001B[38;5;28mself\u001B[39m, \u001B[38;5;241m*\u001B[39m_args, \u001B[38;5;241m*\u001B[39m\u001B[38;5;241m*\u001B[39m_kwargs):\n\u001B[0;32m---> 39\u001B[0m     \u001B[38;5;28;43mself\u001B[39;49m\u001B[38;5;241;43m.\u001B[39;49m\u001B[43m_tester\u001B[49m\u001B[38;5;241;43m.\u001B[39;49m\u001B[43mrequire_now\u001B[49m\u001B[43m(\u001B[49m\u001B[38;5;28;43mself\u001B[39;49m\u001B[38;5;241;43m.\u001B[39;49m\u001B[43m_feature\u001B[49m\u001B[43m)\u001B[49m\n",
      "File \u001B[0;32m~/Software/Misc/distributed-qiskit/venv/lib/python3.9/site-packages/qiskit/utils/lazy_tester.py:223\u001B[0m, in \u001B[0;36mLazyDependencyManager.require_now\u001B[0;34m(self, feature)\u001B[0m\n\u001B[1;32m    221\u001B[0m \u001B[38;5;28;01mif\u001B[39;00m \u001B[38;5;28mself\u001B[39m:\n\u001B[1;32m    222\u001B[0m     \u001B[38;5;28;01mreturn\u001B[39;00m\n\u001B[0;32m--> 223\u001B[0m \u001B[38;5;28;01mraise\u001B[39;00m MissingOptionalLibraryError(\n\u001B[1;32m    224\u001B[0m     libname\u001B[38;5;241m=\u001B[39m\u001B[38;5;28mself\u001B[39m\u001B[38;5;241m.\u001B[39m_name, name\u001B[38;5;241m=\u001B[39mfeature, pip_install\u001B[38;5;241m=\u001B[39m\u001B[38;5;28mself\u001B[39m\u001B[38;5;241m.\u001B[39m_install, msg\u001B[38;5;241m=\u001B[39m\u001B[38;5;28mself\u001B[39m\u001B[38;5;241m.\u001B[39m_msg\n\u001B[1;32m    225\u001B[0m )\n",
      "\u001B[0;31mMissingOptionalLibraryError\u001B[0m: \"The 'pylatexenc' library is required to use 'MatplotlibDrawer'. You can install it with 'pip install pylatexenc'.\""
     ]
    }
   ],
   "source": [
    "qc = QuantumCircuit(QuantumRegister(5, 'qr0'), ClassicalRegister(2, 'cr1'))\n",
    "qc.x(0)\n",
    "qc.h(0)\n",
    "qc.z(1)\n",
    "qc.cx(0, 1)\n",
    "qc.x(4)\n",
    "qc.h(3)\n",
    "# qc.barrier()\n",
    "qc.h(2)\n",
    "qc.cx(3, 4)\n",
    "qc.cx(2, 3)\n",
    "qc.cx(1, 2)\n",
    "qc.measure_all()\n",
    "qc.draw(output='mpl')"
   ]
  },
  {
   "cell_type": "code",
   "execution_count": 24,
   "id": "c6475473",
   "metadata": {
    "ExecuteTime": {
     "end_time": "2022-11-15T08:24:04.035672Z",
     "start_time": "2022-11-15T08:24:04.025672Z"
    }
   },
   "outputs": [
    {
     "data": {
      "text/plain": "[[CircuitInstruction(operation=Instruction(name='x', num_qubits=1, num_clbits=0, params=[]), qubits=(Qubit(QuantumRegister(5, 'qr0'), 0),), clbits=()),\n  CircuitInstruction(operation=Instruction(name='z', num_qubits=1, num_clbits=0, params=[]), qubits=(Qubit(QuantumRegister(5, 'qr0'), 1),), clbits=()),\n  CircuitInstruction(operation=Instruction(name='x', num_qubits=1, num_clbits=0, params=[]), qubits=(Qubit(QuantumRegister(5, 'qr0'), 4),), clbits=()),\n  CircuitInstruction(operation=Instruction(name='h', num_qubits=1, num_clbits=0, params=[]), qubits=(Qubit(QuantumRegister(5, 'qr0'), 3),), clbits=()),\n  CircuitInstruction(operation=Instruction(name='h', num_qubits=1, num_clbits=0, params=[]), qubits=(Qubit(QuantumRegister(5, 'qr0'), 2),), clbits=())],\n [CircuitInstruction(operation=Instruction(name='h', num_qubits=1, num_clbits=0, params=[]), qubits=(Qubit(QuantumRegister(5, 'qr0'), 0),), clbits=()),\n  CircuitInstruction(operation=Instruction(name='cx', num_qubits=2, num_clbits=0, params=[]), qubits=(Qubit(QuantumRegister(5, 'qr0'), 3), Qubit(QuantumRegister(5, 'qr0'), 4)), clbits=()),\n  CircuitInstruction(operation=Instruction(name='cx', num_qubits=2, num_clbits=0, params=[]), qubits=(Qubit(QuantumRegister(5, 'qr0'), 2), Qubit(QuantumRegister(5, 'qr0'), 3)), clbits=())],\n [CircuitInstruction(operation=Instruction(name='cx', num_qubits=2, num_clbits=0, params=[]), qubits=(Qubit(QuantumRegister(5, 'qr0'), 0), Qubit(QuantumRegister(5, 'qr0'), 1)), clbits=())],\n [CircuitInstruction(operation=Instruction(name='cx', num_qubits=2, num_clbits=0, params=[]), qubits=(Qubit(QuantumRegister(5, 'qr0'), 1), Qubit(QuantumRegister(5, 'qr0'), 2)), clbits=())],\n [CircuitInstruction(operation=Instruction(name='measure', num_qubits=1, num_clbits=1, params=[]), qubits=(Qubit(QuantumRegister(5, 'qr0'), 0),), clbits=(Clbit(ClassicalRegister(5, 'meas'), 0),)),\n  CircuitInstruction(operation=Instruction(name='measure', num_qubits=1, num_clbits=1, params=[]), qubits=(Qubit(QuantumRegister(5, 'qr0'), 1),), clbits=(Clbit(ClassicalRegister(5, 'meas'), 1),)),\n  CircuitInstruction(operation=Instruction(name='measure', num_qubits=1, num_clbits=1, params=[]), qubits=(Qubit(QuantumRegister(5, 'qr0'), 2),), clbits=(Clbit(ClassicalRegister(5, 'meas'), 2),)),\n  CircuitInstruction(operation=Instruction(name='measure', num_qubits=1, num_clbits=1, params=[]), qubits=(Qubit(QuantumRegister(5, 'qr0'), 3),), clbits=(Clbit(ClassicalRegister(5, 'meas'), 3),)),\n  CircuitInstruction(operation=Instruction(name='measure', num_qubits=1, num_clbits=1, params=[]), qubits=(Qubit(QuantumRegister(5, 'qr0'), 4),), clbits=(Clbit(ClassicalRegister(5, 'meas'), 4),))]]"
     },
     "execution_count": 24,
     "metadata": {},
     "output_type": "execute_result"
    }
   ],
   "source": [
    "circ_object = CircuitRemapper(qc, \"hi\")\n",
    "layers_here = circ_object._circuit_to_layers()\n",
    "layers_here"
   ]
  },
  {
   "cell_type": "code",
   "execution_count": 26,
   "id": "ca77251b",
   "metadata": {
    "ExecuteTime": {
     "end_time": "2022-11-15T08:24:04.675913Z",
     "start_time": "2022-11-15T08:24:04.185732Z"
    }
   },
   "outputs": [
    {
     "data": {
      "text/plain": "        ┌───┐┌───┐          ┌─┐┌───┐┌───┐                    ┌─┐┌───┐┌───┐     »\n qr0_0: ┤ X ├┤ H ├──■───────┤M├┤ X ├┤ H ├───────■────────────┤M├┤ X ├┤ H ├─────»\n        ├───┤└───┘┌─┴─┐     └╥┘└───┘└┬─┬┘┌───┐┌─┴─┐          └╥┘└───┘└┬─┬┘┌───┐»\n qr0_1: ┤ Z ├─────┤ X ├──■───╫───────┤M├─┤ Z ├┤ X ├───────■───╫───────┤M├─┤ Z ├»\n        ├───┤     └───┘┌─┴─┐ ║       └╥┘ └┬─┬┘├───┤     ┌─┴─┐ ║       └╥┘ └┬─┬┘»\n qr0_2: ┤ H ├───────■──┤ X ├─╫────────╫───┤M├─┤ H ├──■──┤ X ├─╫────────╫───┤M├─»\n        ├───┤     ┌─┴─┐└┬─┬┘ ║ ┌───┐  ║   └╥┘ └───┘┌─┴─┐└┬─┬┘ ║ ┌───┐  ║   └╥┘ »\n qr0_3: ┤ H ├──■──┤ X ├─┤M├──╫─┤ H ├──╫────╫────■──┤ X ├─┤M├──╫─┤ H ├──╫────╫──»\n        ├───┤┌─┴─┐└┬─┬┘ └╥┘  ║ ├───┤  ║    ║  ┌─┴─┐└┬─┬┘ └╥┘  ║ ├───┤  ║    ║  »\n qr0_4: ┤ X ├┤ X ├─┤M├───╫───╫─┤ X ├──╫────╫──┤ X ├─┤M├───╫───╫─┤ X ├──╫────╫──»\n        └───┘└───┘ └╥┘   ║   ║ └───┘  ║    ║  └───┘ └╥┘   ║   ║ └───┘  ║    ║  »\nhola_0: ════════════╬════╬═══╬════════╬════╬═════════╬════╬═══╬════════╬════╬══»\n                    ║    ║   ║        ║    ║         ║    ║   ║        ║    ║  »\nhola_1: ════════════╬════╬═══╬════════╬════╬═════════╬════╬═══╬════════╬════╬══»\n                    ║    ║   ║        ║    ║         ║    ║   ║        ║    ║  »\nhola_2: ════════════╬════╬═══╬════════╬════╬═════════╬════╬═══╬════════╬════╬══»\n                    ║    ║   ║        ║    ║         ║    ║   ║        ║    ║  »\nhola_3: ════════════╬════╬═══╬════════╬════╬═════════╬════╬═══╬════════╬════╬══»\n                    ║    ║   ║        ║    ║         ║    ║   ║        ║    ║  »\nhola_4: ════════════╬════╬═══╬════════╬════╬═════════╬════╬═══╬════════╬════╬══»\n                    ║    ║   ║        ║    ║         ║    ║   ║        ║    ║  »\nmeas_0: ════════════╬════╬═══╩════════╬════╬═════════╬════╬═══╩════════╬════╬══»\n                    ║    ║            ║    ║         ║    ║            ║    ║  »\nmeas_1: ════════════╬════╬════════════╩════╬═════════╬════╬════════════╩════╬══»\n                    ║    ║                 ║         ║    ║                 ║  »\nmeas_2: ════════════╬════╬═════════════════╩═════════╬════╬═════════════════╩══»\n                    ║    ║                           ║    ║                    »\nmeas_3: ════════════╬════╩═══════════════════════════╬════╩════════════════════»\n                    ║                                ║                         »\nmeas_4: ════════════╩════════════════════════════════╩═════════════════════════»\n                                                                               »\n«                       ┌─┐┌───┐┌───┐                    ┌─┐      \n« qr0_0: ──■────────────┤M├┤ X ├┤ H ├───────■────────────┤M├──────\n«        ┌─┴─┐          └╥┘└───┘└┬─┬┘┌───┐┌─┴─┐          └╥┘┌─┐   \n« qr0_1: ┤ X ├───────■───╫───────┤M├─┤ Z ├┤ X ├───────■───╫─┤M├───\n«        ├───┤     ┌─┴─┐ ║       └╥┘ └┬─┬┘├───┤     ┌─┴─┐ ║ └╥┘┌─┐\n« qr0_2: ┤ H ├──■──┤ X ├─╫────────╫───┤M├─┤ H ├──■──┤ X ├─╫──╫─┤M├\n«        └───┘┌─┴─┐└┬─┬┘ ║ ┌───┐  ║   └╥┘ └───┘┌─┴─┐└┬─┬┘ ║  ║ └╥┘\n« qr0_3: ──■──┤ X ├─┤M├──╫─┤ H ├──╫────╫────■──┤ X ├─┤M├──╫──╫──╫─\n«        ┌─┴─┐└┬─┬┘ └╥┘  ║ ├───┤  ║    ║  ┌─┴─┐└┬─┬┘ └╥┘  ║  ║  ║ \n« qr0_4: ┤ X ├─┤M├───╫───╫─┤ X ├──╫────╫──┤ X ├─┤M├───╫───╫──╫──╫─\n«        └───┘ └╥┘   ║   ║ └───┘  ║    ║  └───┘ └╥┘   ║   ║  ║  ║ \n«hola_0: ═══════╬════╬═══╬════════╬════╬═════════╬════╬═══╬══╬══╬═\n«               ║    ║   ║        ║    ║         ║    ║   ║  ║  ║ \n«hola_1: ═══════╬════╬═══╬════════╬════╬═════════╬════╬═══╬══╬══╬═\n«               ║    ║   ║        ║    ║         ║    ║   ║  ║  ║ \n«hola_2: ═══════╬════╬═══╬════════╬════╬═════════╬════╬═══╬══╬══╬═\n«               ║    ║   ║        ║    ║         ║    ║   ║  ║  ║ \n«hola_3: ═══════╬════╬═══╬════════╬════╬═════════╬════╬═══╬══╬══╬═\n«               ║    ║   ║        ║    ║         ║    ║   ║  ║  ║ \n«hola_4: ═══════╬════╬═══╬════════╬════╬═════════╬════╬═══╬══╬══╬═\n«               ║    ║   ║        ║    ║         ║    ║   ║  ║  ║ \n«meas_0: ═══════╬════╬═══╩════════╬════╬═════════╬════╬═══╩══╬══╬═\n«               ║    ║            ║    ║         ║    ║      ║  ║ \n«meas_1: ═══════╬════╬════════════╩════╬═════════╬════╬══════╩══╬═\n«               ║    ║                 ║         ║    ║         ║ \n«meas_2: ═══════╬════╬═════════════════╩═════════╬════╬═════════╩═\n«               ║    ║                           ║    ║           \n«meas_3: ═══════╬════╩═══════════════════════════╬════╩═══════════\n«               ║                                ║                \n«meas_4: ═══════╩════════════════════════════════╩════════════════\n«                                                                 ",
      "text/html": "<pre style=\"word-wrap: normal;white-space: pre;background: #fff0;line-height: 1.1;font-family: &quot;Courier New&quot;,Courier,monospace\">        ┌───┐┌───┐          ┌─┐┌───┐┌───┐                    ┌─┐┌───┐┌───┐     »\n qr0_0: ┤ X ├┤ H ├──■───────┤M├┤ X ├┤ H ├───────■────────────┤M├┤ X ├┤ H ├─────»\n        ├───┤└───┘┌─┴─┐     └╥┘└───┘└┬─┬┘┌───┐┌─┴─┐          └╥┘└───┘└┬─┬┘┌───┐»\n qr0_1: ┤ Z ├─────┤ X ├──■───╫───────┤M├─┤ Z ├┤ X ├───────■───╫───────┤M├─┤ Z ├»\n        ├───┤     └───┘┌─┴─┐ ║       └╥┘ └┬─┬┘├───┤     ┌─┴─┐ ║       └╥┘ └┬─┬┘»\n qr0_2: ┤ H ├───────■──┤ X ├─╫────────╫───┤M├─┤ H ├──■──┤ X ├─╫────────╫───┤M├─»\n        ├───┤     ┌─┴─┐└┬─┬┘ ║ ┌───┐  ║   └╥┘ └───┘┌─┴─┐└┬─┬┘ ║ ┌───┐  ║   └╥┘ »\n qr0_3: ┤ H ├──■──┤ X ├─┤M├──╫─┤ H ├──╫────╫────■──┤ X ├─┤M├──╫─┤ H ├──╫────╫──»\n        ├───┤┌─┴─┐└┬─┬┘ └╥┘  ║ ├───┤  ║    ║  ┌─┴─┐└┬─┬┘ └╥┘  ║ ├───┤  ║    ║  »\n qr0_4: ┤ X ├┤ X ├─┤M├───╫───╫─┤ X ├──╫────╫──┤ X ├─┤M├───╫───╫─┤ X ├──╫────╫──»\n        └───┘└───┘ └╥┘   ║   ║ └───┘  ║    ║  └───┘ └╥┘   ║   ║ └───┘  ║    ║  »\nhola_0: ════════════╬════╬═══╬════════╬════╬═════════╬════╬═══╬════════╬════╬══»\n                    ║    ║   ║        ║    ║         ║    ║   ║        ║    ║  »\nhola_1: ════════════╬════╬═══╬════════╬════╬═════════╬════╬═══╬════════╬════╬══»\n                    ║    ║   ║        ║    ║         ║    ║   ║        ║    ║  »\nhola_2: ════════════╬════╬═══╬════════╬════╬═════════╬════╬═══╬════════╬════╬══»\n                    ║    ║   ║        ║    ║         ║    ║   ║        ║    ║  »\nhola_3: ════════════╬════╬═══╬════════╬════╬═════════╬════╬═══╬════════╬════╬══»\n                    ║    ║   ║        ║    ║         ║    ║   ║        ║    ║  »\nhola_4: ════════════╬════╬═══╬════════╬════╬═════════╬════╬═══╬════════╬════╬══»\n                    ║    ║   ║        ║    ║         ║    ║   ║        ║    ║  »\nmeas_0: ════════════╬════╬═══╩════════╬════╬═════════╬════╬═══╩════════╬════╬══»\n                    ║    ║            ║    ║         ║    ║            ║    ║  »\nmeas_1: ════════════╬════╬════════════╩════╬═════════╬════╬════════════╩════╬══»\n                    ║    ║                 ║         ║    ║                 ║  »\nmeas_2: ════════════╬════╬═════════════════╩═════════╬════╬═════════════════╩══»\n                    ║    ║                           ║    ║                    »\nmeas_3: ════════════╬════╩═══════════════════════════╬════╩════════════════════»\n                    ║                                ║                         »\nmeas_4: ════════════╩════════════════════════════════╩═════════════════════════»\n                                                                               »\n«                       ┌─┐┌───┐┌───┐                    ┌─┐      \n« qr0_0: ──■────────────┤M├┤ X ├┤ H ├───────■────────────┤M├──────\n«        ┌─┴─┐          └╥┘└───┘└┬─┬┘┌───┐┌─┴─┐          └╥┘┌─┐   \n« qr0_1: ┤ X ├───────■───╫───────┤M├─┤ Z ├┤ X ├───────■───╫─┤M├───\n«        ├───┤     ┌─┴─┐ ║       └╥┘ └┬─┬┘├───┤     ┌─┴─┐ ║ └╥┘┌─┐\n« qr0_2: ┤ H ├──■──┤ X ├─╫────────╫───┤M├─┤ H ├──■──┤ X ├─╫──╫─┤M├\n«        └───┘┌─┴─┐└┬─┬┘ ║ ┌───┐  ║   └╥┘ └───┘┌─┴─┐└┬─┬┘ ║  ║ └╥┘\n« qr0_3: ──■──┤ X ├─┤M├──╫─┤ H ├──╫────╫────■──┤ X ├─┤M├──╫──╫──╫─\n«        ┌─┴─┐└┬─┬┘ └╥┘  ║ ├───┤  ║    ║  ┌─┴─┐└┬─┬┘ └╥┘  ║  ║  ║ \n« qr0_4: ┤ X ├─┤M├───╫───╫─┤ X ├──╫────╫──┤ X ├─┤M├───╫───╫──╫──╫─\n«        └───┘ └╥┘   ║   ║ └───┘  ║    ║  └───┘ └╥┘   ║   ║  ║  ║ \n«hola_0: ═══════╬════╬═══╬════════╬════╬═════════╬════╬═══╬══╬══╬═\n«               ║    ║   ║        ║    ║         ║    ║   ║  ║  ║ \n«hola_1: ═══════╬════╬═══╬════════╬════╬═════════╬════╬═══╬══╬══╬═\n«               ║    ║   ║        ║    ║         ║    ║   ║  ║  ║ \n«hola_2: ═══════╬════╬═══╬════════╬════╬═════════╬════╬═══╬══╬══╬═\n«               ║    ║   ║        ║    ║         ║    ║   ║  ║  ║ \n«hola_3: ═══════╬════╬═══╬════════╬════╬═════════╬════╬═══╬══╬══╬═\n«               ║    ║   ║        ║    ║         ║    ║   ║  ║  ║ \n«hola_4: ═══════╬════╬═══╬════════╬════╬═════════╬════╬═══╬══╬══╬═\n«               ║    ║   ║        ║    ║         ║    ║   ║  ║  ║ \n«meas_0: ═══════╬════╬═══╩════════╬════╬═════════╬════╬═══╩══╬══╬═\n«               ║    ║            ║    ║         ║    ║      ║  ║ \n«meas_1: ═══════╬════╬════════════╩════╬═════════╬════╬══════╩══╬═\n«               ║    ║                 ║         ║    ║         ║ \n«meas_2: ═══════╬════╬═════════════════╩═════════╬════╬═════════╩═\n«               ║    ║                           ║    ║           \n«meas_3: ═══════╬════╩═══════════════════════════╬════╩═══════════\n«               ║                                ║                \n«meas_4: ═══════╩════════════════════════════════╩════════════════\n«                                                                 </pre>"
     },
     "execution_count": 26,
     "metadata": {},
     "output_type": "execute_result"
    }
   ],
   "source": [
    "Qubit_list = [Qubit(QuantumRegister(5, 'qr0'), i) for i in range(5)]\n",
    "Cbit_list = [Clbit(ClassicalRegister(5, 'hola'), i) for i in range(5)]\n",
    "\n",
    "layers_here += layers_here\n",
    "qc_recons = circ_object._layer_to_circuit(layers_here, qubits=Qubit_list, clbits=Cbit_list)\n",
    "qc_recons.draw()"
   ]
  },
  {
   "cell_type": "code",
   "execution_count": 27,
   "id": "6d9e6702",
   "metadata": {
    "ExecuteTime": {
     "end_time": "2022-11-15T08:24:21.131770Z",
     "start_time": "2022-11-15T08:24:21.121783Z"
    }
   },
   "outputs": [
    {
     "name": "stdout",
     "output_type": "stream",
     "text": [
      "-CircuitInstruction(operation=Instruction(name='measure', num_qubits=1, num_clbits=1, params=[]), qubits=(Qubit(QuantumRegister(5, 'qr0'), 0),), clbits=(Clbit(ClassicalRegister(5, 'meas'), 0),))-|\n",
      "-CircuitInstruction(operation=Instruction(name='measure', num_qubits=1, num_clbits=1, params=[]), qubits=(Qubit(QuantumRegister(5, 'qr0'), 1),), clbits=(Clbit(ClassicalRegister(5, 'meas'), 1),))-|\n",
      "-CircuitInstruction(operation=Instruction(name='measure', num_qubits=1, num_clbits=1, params=[]), qubits=(Qubit(QuantumRegister(5, 'qr0'), 2),), clbits=(Clbit(ClassicalRegister(5, 'meas'), 2),))-|\n",
      "-CircuitInstruction(operation=Instruction(name='measure', num_qubits=1, num_clbits=1, params=[]), qubits=(Qubit(QuantumRegister(5, 'qr0'), 3),), clbits=(Clbit(ClassicalRegister(5, 'meas'), 3),))-|\n",
      "-CircuitInstruction(operation=Instruction(name='measure', num_qubits=1, num_clbits=1, params=[]), qubits=(Qubit(QuantumRegister(5, 'qr0'), 4),), clbits=(Clbit(ClassicalRegister(5, 'meas'), 4),))-|\n",
      "\n"
     ]
    }
   ],
   "source": [
    "a_layer = Layer(layers_here[4])\n",
    "print(a_layer)"
   ]
  },
  {
   "cell_type": "code",
   "execution_count": 6,
   "id": "b1534dc4",
   "metadata": {
    "ExecuteTime": {
     "end_time": "2022-11-15T08:24:21.892336Z",
     "start_time": "2022-11-15T08:24:21.872329Z"
    }
   },
   "outputs": [],
   "source": [
    "def measure_sim(qc, samples=20000):\n",
    "    backend = Aer.get_backend('qasm_simulator')\n",
    "    circuit = transpile(qc, backend=backend)\n",
    "    #     print(circuit)\n",
    "    samples = 8192\n",
    "    job = execute(qc, backend, shots=samples)\n",
    "    counts = job.result().get_counts()\n",
    "    return counts"
   ]
  },
  {
   "cell_type": "code",
   "execution_count": 7,
   "id": "917f2d89",
   "metadata": {
    "ExecuteTime": {
     "end_time": "2022-11-15T08:24:22.532632Z",
     "start_time": "2022-11-15T08:24:22.522627Z"
    }
   },
   "outputs": [
    {
     "data": {
      "text/html": [
       "<pre style=\"word-wrap: normal;white-space: pre;background: #fff0;line-height: 1.1;font-family: &quot;Courier New&quot;,Courier,monospace\">        ┌───┐      ░ ┌─┐   \n",
       "   q_0: ┤ H ├──■───░─┤M├───\n",
       "        └───┘┌─┴─┐ ░ └╥┘┌─┐\n",
       "   q_1: ─────┤ X ├─░──╫─┤M├\n",
       "             └───┘ ░  ║ └╥┘\n",
       "meas: 2/══════════════╩══╩═\n",
       "                      0  1 </pre>"
      ],
      "text/plain": [
       "        ┌───┐      ░ ┌─┐   \n",
       "   q_0: ┤ H ├──■───░─┤M├───\n",
       "        └───┘┌─┴─┐ ░ └╥┘┌─┐\n",
       "   q_1: ─────┤ X ├─░──╫─┤M├\n",
       "             └───┘ ░  ║ └╥┘\n",
       "meas: 2/══════════════╩══╩═\n",
       "                      0  1 "
      ]
     },
     "execution_count": 7,
     "metadata": {},
     "output_type": "execute_result"
    }
   ],
   "source": [
    "qc = QuantumCircuit(2)\n",
    "qc.h(0)\n",
    "qc.cx(0, 1)\n",
    "qc.measure_all()\n",
    "# print(qc)\n",
    "qc.draw()"
   ]
  },
  {
   "cell_type": "code",
   "execution_count": 8,
   "id": "ca5897de",
   "metadata": {
    "ExecuteTime": {
     "end_time": "2022-11-15T08:24:23.513041Z",
     "start_time": "2022-11-15T08:24:23.052834Z"
    }
   },
   "outputs": [
    {
     "data": {
      "image/png": "[encoded data removed]",
      "text/plain": [
       "<Figure size 504x360 with 1 Axes>"
      ]
     },
     "execution_count": 8,
     "metadata": {},
     "output_type": "execute_result"
    }
   ],
   "source": [
    "# run circuits on qasm simulator\n",
    "sim_count = measure_sim(qc=qc)\n",
    "plot_histogram(sim_count)  # Display the output on measurement of state vector"
   ]
  },
  {
   "cell_type": "code",
   "execution_count": 9,
   "id": "4ebb3f7e",
   "metadata": {
    "ExecuteTime": {
     "end_time": "2022-11-15T08:24:24.413415Z",
     "start_time": "2022-11-15T08:24:24.233325Z"
    }
   },
   "outputs": [
    {
     "data": {
      "image/png": "[encoded data removed]",
      "text/plain": [
       "<Figure size 491.205x264.88 with 1 Axes>"
      ]
     },
     "execution_count": 9,
     "metadata": {},
     "output_type": "execute_result"
    }
   ],
   "source": [
    "new_layer = [[CircuitInstruction(operation=Instruction(name='h', num_qubits=1, num_clbits=0, params=[]),\n",
    "                                 qubits=(Qubit(QuantumRegister(2, 'qr0'), 1),), clbits=())],\n",
    "             [CircuitInstruction(operation=Instruction(name='cx', num_qubits=2, num_clbits=0, params=[]),\n",
    "                                 qubits=(Qubit(QuantumRegister(2, 'qr0'), 1), Qubit(QuantumRegister(2, 'qr0'), 0)),\n",
    "                                 clbits=())],\n",
    "             [CircuitInstruction(operation=Instruction(name='measure', num_qubits=1, num_clbits=1, params=[]),\n",
    "                                 qubits=(Qubit(QuantumRegister(2, 'qr0'), 0),),\n",
    "                                 clbits=(Clbit(ClassicalRegister(2, 'meas'), 0),)),\n",
    "              CircuitInstruction(operation=Instruction(name='measure', num_qubits=1, num_clbits=1, params=[]),\n",
    "                                 qubits=(Qubit(QuantumRegister(2, 'qr0'), 1),),\n",
    "                                 clbits=(Clbit(ClassicalRegister(2, 'meas'), 1),))]]\n",
    "\n",
    "new_circ = circ_object._layer_to_circuit(new_layer)\n",
    "# print(new_circ.data)\n",
    "new_circ.draw(output='mpl')"
   ]
  },
  {
   "cell_type": "code",
   "execution_count": 10,
   "id": "b0b962ab",
   "metadata": {
    "ExecuteTime": {
     "end_time": "2022-11-15T08:24:25.013684Z",
     "start_time": "2022-11-15T08:24:24.873627Z"
    }
   },
   "outputs": [
    {
     "data": {
      "image/png": "[encoded data removed]",
      "text/plain": [
       "<Figure size 504x360 with 1 Axes>"
      ]
     },
     "execution_count": 10,
     "metadata": {},
     "output_type": "execute_result"
    }
   ],
   "source": [
    "# run circuits on qasm simulator\n",
    "sim_count = measure_sim(qc=new_circ)\n",
    "plot_histogram(sim_count)  # Display the output on measurement of state vector"
   ]
  },
  {
   "cell_type": "code",
   "execution_count": null,
   "id": "10720a44",
   "metadata": {},
   "outputs": [],
   "source": []
  }
 ],
 "metadata": {
  "kernelspec": {
   "display_name": "Python 3 (ipykernel)",
   "language": "python",
   "name": "python3"
  },
  "language_info": {
   "codemirror_mode": {
    "name": "ipython",
    "version": 3
   },
   "file_extension": ".py",
   "mimetype": "text/x-python",
   "name": "python",
   "nbconvert_exporter": "python",
   "pygments_lexer": "ipython3",
   "version": "3.7.10"
  },
  "toc": {
   "base_numbering": 1,
   "nav_menu": {},
   "number_sections": true,
   "sideBar": true,
   "skip_h1_title": false,
   "title_cell": "Table of Contents",
   "title_sidebar": "Contents",
   "toc_cell": false,
   "toc_position": {},
   "toc_section_display": true,
   "toc_window_display": false
  }
 },
 "nbformat": 4,
 "nbformat_minor": 5
}
