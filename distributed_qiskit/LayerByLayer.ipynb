{
 "cells": [
  {
   "cell_type": "code",
   "execution_count": 2,
   "id": "64467c30",
   "metadata": {
    "ExecuteTime": {
     "end_time": "2022-12-07T04:46:17.336341Z",
     "start_time": "2022-12-07T04:45:56.610933Z"
    }
   },
   "outputs": [
    {
     "name": "stderr",
     "output_type": "stream",
     "text": [
      "C:\\Users\\anura\\anaconda3\\lib\\site-packages\\numpy\\_distributor_init.py:32: UserWarning: loaded more than 1 DLL from .libs:\n",
      "C:\\Users\\anura\\anaconda3\\lib\\site-packages\\numpy\\.libs\\libopenblas.NOIJJG62EMASZI6NYURL6JBKM4EVBGM7.gfortran-win_amd64.dll\n",
      "C:\\Users\\anura\\anaconda3\\lib\\site-packages\\numpy\\.libs\\libopenblas.XWYDX2IKJW2NMTWSFYNGFUWKQU3LYTCZ.gfortran-win_amd64.dll\n",
      "  stacklevel=1)\n"
     ]
    }
   ],
   "source": [
    "from qiskit.circuit import QuantumCircuit\n",
    "from qiskit import transpile, assemble, Aer, IBMQ, execute\n",
    "from qiskit.visualization import plot_histogram, plot_bloch_multivector\n",
    "from sympy import Matrix\n",
    "import matplotlib.pyplot as plt\n",
    "from qiskit.circuit.instruction import Instruction\n",
    "from qiskit.circuit.quantumcircuitdata import QuantumCircuitData, CircuitInstruction\n",
    "from qiskit.circuit.classicalregister import ClassicalRegister, Clbit\n",
    "from qiskit.circuit.quantumregister import QuantumRegister, Qubit\n",
    "from qiskit.circuit.library.standard_gates.h import *\n",
    "import qiskit\n",
    "import numpy as np\n",
    "\n",
    "from circuit_remapper import *\n",
    "from components.inlin_layer import *\n",
    "\n",
    "import warnings\n",
    "\n",
    "warnings.filterwarnings(\"ignore\")"
   ]
  },
  {
   "cell_type": "code",
   "execution_count": null,
   "id": "d5e5163a",
   "metadata": {},
   "outputs": [],
   "source": []
  },
  {
   "cell_type": "code",
   "execution_count": 3,
   "id": "225e8071",
   "metadata": {
    "ExecuteTime": {
     "end_time": "2022-12-07T04:46:19.494808Z",
     "start_time": "2022-12-07T04:46:17.336341Z"
    }
   },
   "outputs": [
    {
     "data": {
      "image/png": "[encoded data removed]",
      "text/plain": [
       "<Figure size 718.879x445.48 with 1 Axes>"
      ]
     },
     "execution_count": 3,
     "metadata": {},
     "output_type": "execute_result"
    }
   ],
   "source": [
    "qc = QuantumCircuit(QuantumRegister(5, 'qr0'), ClassicalRegister(2, 'cr1'))\n",
    "qc.x(0)\n",
    "qc.h(0)\n",
    "qc.z(1)\n",
    "qc.cx(0, 1)\n",
    "qc.x(4)\n",
    "qc.h(3)\n",
    "# qc.barrier()\n",
    "qc.h(2)\n",
    "qc.cx(3, 4)\n",
    "qc.cx(2, 3)\n",
    "qc.cx(1, 2)\n",
    "qc.measure_all()\n",
    "qc.draw(output='mpl')"
   ]
  },
  {
   "cell_type": "code",
   "execution_count": 4,
   "id": "c6475473",
   "metadata": {
    "ExecuteTime": {
     "end_time": "2022-12-07T04:46:19.514811Z",
     "start_time": "2022-12-07T04:46:19.494808Z"
    }
   },
   "outputs": [
    {
     "data": {
      "text/plain": [
       "[[CircuitInstruction(operation=Instruction(name='x', num_qubits=1, num_clbits=0, params=[]), qubits=(Qubit(QuantumRegister(5, 'qr0'), 0),), clbits=()),\n",
       "  CircuitInstruction(operation=Instruction(name='z', num_qubits=1, num_clbits=0, params=[]), qubits=(Qubit(QuantumRegister(5, 'qr0'), 1),), clbits=()),\n",
       "  CircuitInstruction(operation=Instruction(name='x', num_qubits=1, num_clbits=0, params=[]), qubits=(Qubit(QuantumRegister(5, 'qr0'), 4),), clbits=()),\n",
       "  CircuitInstruction(operation=Instruction(name='h', num_qubits=1, num_clbits=0, params=[]), qubits=(Qubit(QuantumRegister(5, 'qr0'), 3),), clbits=()),\n",
       "  CircuitInstruction(operation=Instruction(name='h', num_qubits=1, num_clbits=0, params=[]), qubits=(Qubit(QuantumRegister(5, 'qr0'), 2),), clbits=()),\n",
       "  CircuitInstruction(operation=Instruction(name='barrier', num_qubits=5, num_clbits=0, params=[]), qubits=(Qubit(QuantumRegister(5, 'qr0'), 0), Qubit(QuantumRegister(5, 'qr0'), 1), Qubit(QuantumRegister(5, 'qr0'), 2), Qubit(QuantumRegister(5, 'qr0'), 3), Qubit(QuantumRegister(5, 'qr0'), 4)), clbits=())],\n",
       " [CircuitInstruction(operation=Instruction(name='h', num_qubits=1, num_clbits=0, params=[]), qubits=(Qubit(QuantumRegister(5, 'qr0'), 0),), clbits=()),\n",
       "  CircuitInstruction(operation=Instruction(name='cx', num_qubits=2, num_clbits=0, params=[]), qubits=(Qubit(QuantumRegister(5, 'qr0'), 3), Qubit(QuantumRegister(5, 'qr0'), 4)), clbits=())],\n",
       " [CircuitInstruction(operation=Instruction(name='cx', num_qubits=2, num_clbits=0, params=[]), qubits=(Qubit(QuantumRegister(5, 'qr0'), 0), Qubit(QuantumRegister(5, 'qr0'), 1)), clbits=()),\n",
       "  CircuitInstruction(operation=Instruction(name='cx', num_qubits=2, num_clbits=0, params=[]), qubits=(Qubit(QuantumRegister(5, 'qr0'), 2), Qubit(QuantumRegister(5, 'qr0'), 3)), clbits=())],\n",
       " [CircuitInstruction(operation=Instruction(name='cx', num_qubits=2, num_clbits=0, params=[]), qubits=(Qubit(QuantumRegister(5, 'qr0'), 1), Qubit(QuantumRegister(5, 'qr0'), 2)), clbits=())],\n",
       " [CircuitInstruction(operation=Instruction(name='measure', num_qubits=1, num_clbits=1, params=[]), qubits=(Qubit(QuantumRegister(5, 'qr0'), 0),), clbits=(Clbit(ClassicalRegister(5, 'meas'), 0),)),\n",
       "  CircuitInstruction(operation=Instruction(name='measure', num_qubits=1, num_clbits=1, params=[]), qubits=(Qubit(QuantumRegister(5, 'qr0'), 1),), clbits=(Clbit(ClassicalRegister(5, 'meas'), 1),)),\n",
       "  CircuitInstruction(operation=Instruction(name='measure', num_qubits=1, num_clbits=1, params=[]), qubits=(Qubit(QuantumRegister(5, 'qr0'), 2),), clbits=(Clbit(ClassicalRegister(5, 'meas'), 2),)),\n",
       "  CircuitInstruction(operation=Instruction(name='measure', num_qubits=1, num_clbits=1, params=[]), qubits=(Qubit(QuantumRegister(5, 'qr0'), 3),), clbits=(Clbit(ClassicalRegister(5, 'meas'), 3),)),\n",
       "  CircuitInstruction(operation=Instruction(name='measure', num_qubits=1, num_clbits=1, params=[]), qubits=(Qubit(QuantumRegister(5, 'qr0'), 4),), clbits=(Clbit(ClassicalRegister(5, 'meas'), 4),))]]"
      ]
     },
     "execution_count": 4,
     "metadata": {},
     "output_type": "execute_result"
    }
   ],
   "source": [
    "circ_object = CircuitRemapper(qc, \"hi\")\n",
    "layers_here = circ_object._circuit_to_layers()\n",
    "layers_here"
   ]
  },
  {
   "cell_type": "code",
   "execution_count": 5,
   "id": "ca77251b",
   "metadata": {
    "ExecuteTime": {
     "end_time": "2022-12-07T04:46:19.604883Z",
     "start_time": "2022-12-07T04:46:19.514811Z"
    }
   },
   "outputs": [
    {
     "data": {
      "text/html": [
       "<pre style=\"word-wrap: normal;white-space: pre;background: #fff0;line-height: 1.1;font-family: &quot;Courier New&quot;,Courier,monospace\">        ┌───┐ ░ ┌───┐          ┌─┐┌───┐              ░ ┌───┐          ┌─┐      \n",
       " qr0_0: ┤ X ├─░─┤ H ├──■───────┤M├┤ X ├──────────────░─┤ H ├──■───────┤M├──────\n",
       "        ├───┤ ░ └───┘┌─┴─┐     └╥┘└───┘┌─┐┌───┐      ░ └───┘┌─┴─┐     └╥┘┌─┐   \n",
       " qr0_1: ┤ Z ├─░──────┤ X ├──■───╫──────┤M├┤ Z ├──────░──────┤ X ├──■───╫─┤M├───\n",
       "        ├───┤ ░      └───┘┌─┴─┐ ║      └╥┘└┬─┬┘┌───┐ ░      └───┘┌─┴─┐ ║ └╥┘┌─┐\n",
       " qr0_2: ┤ H ├─░────────■──┤ X ├─╫───────╫──┤M├─┤ H ├─░────────■──┤ X ├─╫──╫─┤M├\n",
       "        ├───┤ ░      ┌─┴─┐└┬─┬┘ ║ ┌───┐ ║  └╥┘ └───┘ ░      ┌─┴─┐└┬─┬┘ ║  ║ └╥┘\n",
       " qr0_3: ┤ H ├─░───■──┤ X ├─┤M├──╫─┤ H ├─╫───╫────────░───■──┤ X ├─┤M├──╫──╫──╫─\n",
       "        ├───┤ ░ ┌─┴─┐└┬─┬┘ └╥┘  ║ ├───┤ ║   ║        ░ ┌─┴─┐└┬─┬┘ └╥┘  ║  ║  ║ \n",
       " qr0_4: ┤ X ├─░─┤ X ├─┤M├───╫───╫─┤ X ├─╫───╫────────░─┤ X ├─┤M├───╫───╫──╫──╫─\n",
       "        └───┘ ░ └───┘ └╥┘   ║   ║ └───┘ ║   ║        ░ └───┘ └╥┘   ║   ║  ║  ║ \n",
       "hola: 5/═══════════════╬════╬═══╬═══════╬═══╬═════════════════╬════╬═══╬══╬══╬═\n",
       "                       ║    ║   ║       ║   ║                 ║    ║   ║  ║  ║ \n",
       "meas: 5/═══════════════╩════╩═══╩═══════╩═══╩═════════════════╩════╩═══╩══╩══╩═\n",
       "                       4    3   0       1   2                 4    3   0  1  2 </pre>"
      ],
      "text/plain": [
       "        ┌───┐ ░ ┌───┐          ┌─┐┌───┐              ░ ┌───┐          ┌─┐      \n",
       " qr0_0: ┤ X ├─░─┤ H ├──■───────┤M├┤ X ├──────────────░─┤ H ├──■───────┤M├──────\n",
       "        ├───┤ ░ └───┘┌─┴─┐     └╥┘└───┘┌─┐┌───┐      ░ └───┘┌─┴─┐     └╥┘┌─┐   \n",
       " qr0_1: ┤ Z ├─░──────┤ X ├──■───╫──────┤M├┤ Z ├──────░──────┤ X ├──■───╫─┤M├───\n",
       "        ├───┤ ░      └───┘┌─┴─┐ ║      └╥┘└┬─┬┘┌───┐ ░      └───┘┌─┴─┐ ║ └╥┘┌─┐\n",
       " qr0_2: ┤ H ├─░────────■──┤ X ├─╫───────╫──┤M├─┤ H ├─░────────■──┤ X ├─╫──╫─┤M├\n",
       "        ├───┤ ░      ┌─┴─┐└┬─┬┘ ║ ┌───┐ ║  └╥┘ └───┘ ░      ┌─┴─┐└┬─┬┘ ║  ║ └╥┘\n",
       " qr0_3: ┤ H ├─░───■──┤ X ├─┤M├──╫─┤ H ├─╫───╫────────░───■──┤ X ├─┤M├──╫──╫──╫─\n",
       "        ├───┤ ░ ┌─┴─┐└┬─┬┘ └╥┘  ║ ├───┤ ║   ║        ░ ┌─┴─┐└┬─┬┘ └╥┘  ║  ║  ║ \n",
       " qr0_4: ┤ X ├─░─┤ X ├─┤M├───╫───╫─┤ X ├─╫───╫────────░─┤ X ├─┤M├───╫───╫──╫──╫─\n",
       "        └───┘ ░ └───┘ └╥┘   ║   ║ └───┘ ║   ║        ░ └───┘ └╥┘   ║   ║  ║  ║ \n",
       "hola: 5/═══════════════╬════╬═══╬═══════╬═══╬═════════════════╬════╬═══╬══╬══╬═\n",
       "                       ║    ║   ║       ║   ║                 ║    ║   ║  ║  ║ \n",
       "meas: 5/═══════════════╩════╩═══╩═══════╩═══╩═════════════════╩════╩═══╩══╩══╩═\n",
       "                       4    3   0       1   2                 4    3   0  1  2 "
      ]
     },
     "execution_count": 5,
     "metadata": {},
     "output_type": "execute_result"
    }
   ],
   "source": [
    "Qubit_list = [Qubit(QuantumRegister(5, 'qr0'), i) for i in range(5)]\n",
    "Cbit_list = [Clbit(ClassicalRegister(5, 'hola'), i) for i in range(5)]\n",
    "\n",
    "layers_here += layers_here\n",
    "qc_recons = circ_object._layer_to_circuit(layers_here, qubits=Qubit_list, clbits=Cbit_list)\n",
    "qc_recons.draw()"
   ]
  },
  {
   "cell_type": "code",
   "execution_count": 6,
   "id": "6d9e6702",
   "metadata": {
    "ExecuteTime": {
     "end_time": "2022-12-07T04:46:19.624887Z",
     "start_time": "2022-12-07T04:46:19.604883Z"
    }
   },
   "outputs": [
    {
     "name": "stdout",
     "output_type": "stream",
     "text": [
      "-CircuitInstruction(operation=Instruction(name='measure', num_qubits=1, num_clbits=1, params=[]), qubits=(Qubit(QuantumRegister(5, 'qr0'), 0),), clbits=(Clbit(ClassicalRegister(5, 'meas'), 0),))-|\n",
      "-CircuitInstruction(operation=Instruction(name='measure', num_qubits=1, num_clbits=1, params=[]), qubits=(Qubit(QuantumRegister(5, 'qr0'), 1),), clbits=(Clbit(ClassicalRegister(5, 'meas'), 1),))-|\n",
      "-CircuitInstruction(operation=Instruction(name='measure', num_qubits=1, num_clbits=1, params=[]), qubits=(Qubit(QuantumRegister(5, 'qr0'), 2),), clbits=(Clbit(ClassicalRegister(5, 'meas'), 2),))-|\n",
      "-CircuitInstruction(operation=Instruction(name='measure', num_qubits=1, num_clbits=1, params=[]), qubits=(Qubit(QuantumRegister(5, 'qr0'), 3),), clbits=(Clbit(ClassicalRegister(5, 'meas'), 3),))-|\n",
      "-CircuitInstruction(operation=Instruction(name='measure', num_qubits=1, num_clbits=1, params=[]), qubits=(Qubit(QuantumRegister(5, 'qr0'), 4),), clbits=(Clbit(ClassicalRegister(5, 'meas'), 4),))-|\n",
      "\n"
     ]
    }
   ],
   "source": [
    "a_layer = Layer(layers_here[4])\n",
    "print(a_layer)"
   ]
  },
  {
   "cell_type": "code",
   "execution_count": 90,
   "id": "b1534dc4",
   "metadata": {
    "ExecuteTime": {
     "end_time": "2022-12-07T05:09:50.774548Z",
     "start_time": "2022-12-07T05:09:50.744541Z"
    }
   },
   "outputs": [],
   "source": [
    "def measure_sim(qc, samples=20000):\n",
    "    backend = Aer.get_backend('qasm_simulator')\n",
    "    circuit = transpile(qc, backend=backend)\n",
    "    #     print(circuit)\n",
    "    samples = 8192\n",
    "    job = execute(qc, backend, shots=samples)\n",
    "    counts = job.result().get_counts()\n",
    "#     print(\"Job result: \", job.result())\n",
    "    return counts"
   ]
  },
  {
   "cell_type": "code",
   "execution_count": 91,
   "id": "917f2d89",
   "metadata": {
    "ExecuteTime": {
     "end_time": "2022-12-07T05:09:50.968429Z",
     "start_time": "2022-12-07T05:09:50.938418Z"
    }
   },
   "outputs": [
    {
     "data": {
      "text/html": [
       "<pre style=\"word-wrap: normal;white-space: pre;background: #fff0;line-height: 1.1;font-family: &quot;Courier New&quot;,Courier,monospace\">        ┌───┐      ░ ┌─┐   \n",
       "   q_0: ┤ H ├──■───░─┤M├───\n",
       "        └───┘┌─┴─┐ ░ └╥┘┌─┐\n",
       "   q_1: ─────┤ X ├─░──╫─┤M├\n",
       "             └───┘ ░  ║ └╥┘\n",
       "meas: 2/══════════════╩══╩═\n",
       "                      0  1 </pre>"
      ],
      "text/plain": [
       "        ┌───┐      ░ ┌─┐   \n",
       "   q_0: ┤ H ├──■───░─┤M├───\n",
       "        └───┘┌─┴─┐ ░ └╥┘┌─┐\n",
       "   q_1: ─────┤ X ├─░──╫─┤M├\n",
       "             └───┘ ░  ║ └╥┘\n",
       "meas: 2/══════════════╩══╩═\n",
       "                      0  1 "
      ]
     },
     "execution_count": 91,
     "metadata": {},
     "output_type": "execute_result"
    }
   ],
   "source": [
    "qc = QuantumCircuit(2)\n",
    "qc.h(0)\n",
    "qc.cx(0, 1)\n",
    "qc.measure_all()\n",
    "# print(qc)\n",
    "qc.draw()"
   ]
  },
  {
   "cell_type": "code",
   "execution_count": 92,
   "id": "ca5897de",
   "metadata": {
    "ExecuteTime": {
     "end_time": "2022-12-07T05:09:51.558866Z",
     "start_time": "2022-12-07T05:09:51.108509Z"
    }
   },
   "outputs": [
    {
     "data": {
      "image/png": "[encoded data removed]",
      "text/plain": [
       "<Figure size 504x360 with 1 Axes>"
      ]
     },
     "execution_count": 92,
     "metadata": {},
     "output_type": "execute_result"
    }
   ],
   "source": [
    "# run circuits on qasm simulator\n",
    "sim_count = measure_sim(qc=qc)\n",
    "plot_histogram(sim_count)  # Display the output on measurement of state vector"
   ]
  },
  {
   "cell_type": "code",
   "execution_count": 93,
   "id": "4ebb3f7e",
   "metadata": {
    "ExecuteTime": {
     "end_time": "2022-12-07T05:09:52.039281Z",
     "start_time": "2022-12-07T05:09:51.558866Z"
    }
   },
   "outputs": [
    {
     "data": {
      "image/png": "[encoded data removed]",
      "text/plain": [
       "<Figure size 491.205x264.88 with 1 Axes>"
      ]
     },
     "execution_count": 93,
     "metadata": {},
     "output_type": "execute_result"
    }
   ],
   "source": [
    "new_layer = [[CircuitInstruction(operation=Instruction(name='h', num_qubits=1, num_clbits=0, params=[]),\n",
    "                                 qubits=(Qubit(QuantumRegister(2, 'qr0'), 1),), clbits=())],\n",
    "             [CircuitInstruction(operation=Instruction(name='cx', num_qubits=2, num_clbits=0, params=[]),\n",
    "                                 qubits=(Qubit(QuantumRegister(2, 'qr0'), 1), Qubit(QuantumRegister(2, 'qr0'), 0)),\n",
    "                                 clbits=())],\n",
    "             [CircuitInstruction(operation=Instruction(name='measure', num_qubits=1, num_clbits=1, params=[]),\n",
    "                                 qubits=(Qubit(QuantumRegister(2, 'qr0'), 0),),\n",
    "                                 clbits=(Clbit(ClassicalRegister(2, 'meas'), 0),)),\n",
    "              CircuitInstruction(operation=Instruction(name='measure', num_qubits=1, num_clbits=1, params=[]),\n",
    "                                 qubits=(Qubit(QuantumRegister(2, 'qr0'), 1),),\n",
    "                                 clbits=(Clbit(ClassicalRegister(2, 'meas'), 1),))]]\n",
    "\n",
    "new_circ = circ_object._layer_to_circuit(new_layer)\n",
    "# print(new_circ.data)\n",
    "new_circ.draw(output='mpl')"
   ]
  },
  {
   "cell_type": "code",
   "execution_count": 94,
   "id": "b0b962ab",
   "metadata": {
    "ExecuteTime": {
     "end_time": "2022-12-07T05:09:52.434894Z",
     "start_time": "2022-12-07T05:09:52.039281Z"
    }
   },
   "outputs": [
    {
     "data": {
      "image/png": "[encoded data removed]",
      "text/plain": [
       "<Figure size 504x360 with 1 Axes>"
      ]
     },
     "execution_count": 94,
     "metadata": {},
     "output_type": "execute_result"
    }
   ],
   "source": [
    "# run circuits on qasm simulator\n",
    "sim_count = measure_sim(qc=new_circ)\n",
    "plot_histogram(sim_count)  # Display the output on measurement of state vector"
   ]
  },
  {
   "cell_type": "markdown",
   "id": "81f19a97",
   "metadata": {},
   "source": [
    "##### TEST for TOPOLOGY"
   ]
  },
  {
   "cell_type": "code",
   "execution_count": 95,
   "id": "10720a44",
   "metadata": {
    "ExecuteTime": {
     "end_time": "2022-12-07T05:09:52.454895Z",
     "start_time": "2022-12-07T05:09:52.434894Z"
    }
   },
   "outputs": [
    {
     "data": {
      "text/plain": [
       "{'QPU_1': [Qubit(QuantumRegister(5, 'qr0'), 0),\n",
       "  Qubit(QuantumRegister(5, 'qr0'), 1),\n",
       "  Qubit(QuantumRegister(5, 'qr0'), 2)],\n",
       " 'QPU_2': [Qubit(QuantumRegister(5, 'qr0'), 3),\n",
       "  Qubit(QuantumRegister(5, 'qr0'), 4)]}"
      ]
     },
     "execution_count": 95,
     "metadata": {},
     "output_type": "execute_result"
    }
   ],
   "source": [
    "# Write a q_map as dictionary \n",
    "qr0 = QuantumRegister(5, 'qr0')\n",
    "q_map = {\n",
    "    \"QPU_1\" : [Qubit(qr0, i) for i in range(3)],\n",
    "    \"QPU_2\" : [Qubit(qr0, i) for i in range(3,5)]\n",
    "}\n",
    "q_map"
   ]
  },
  {
   "cell_type": "markdown",
   "id": "f6bf80ea",
   "metadata": {},
   "source": [
    "###### Test for topology class methods"
   ]
  },
  {
   "cell_type": "code",
   "execution_count": 96,
   "id": "aa837591",
   "metadata": {
    "ExecuteTime": {
     "end_time": "2022-12-07T05:09:52.494909Z",
     "start_time": "2022-12-07T05:09:52.454895Z"
    }
   },
   "outputs": [
    {
     "name": "stdout",
     "output_type": "stream",
     "text": [
      "Total Number of Qubits in Topology :  5\n",
      "Total Number of QPUs in Topology:  2\n",
      "Qubit(QuantumRegister(5, 'qr0'), 2) and Qubit(QuantumRegister(5, 'qr0'), 4) are not adjacent\n",
      "Qubit: Qubit(QuantumRegister(5, 'qr0'), 0) --------- Host: QPU_1\n",
      "Qubit: Qubit(QuantumRegister(5, 'qr0'), 1) --------- Host: QPU_1\n",
      "Qubit: Qubit(QuantumRegister(5, 'qr0'), 2) --------- Host: QPU_1\n",
      "Qubit: Qubit(QuantumRegister(5, 'qr0'), 3) --------- Host: QPU_2\n",
      "Qubit: Qubit(QuantumRegister(5, 'qr0'), 4) --------- Host: QPU_2\n"
     ]
    }
   ],
   "source": [
    "circuit_topo = Topology(q_map)\n",
    "\n",
    "print(\"Total Number of Qubits in Topology : \", circuit_topo.num_qubits())\n",
    "print(\"Total Number of QPUs in Topology: \", circuit_topo.num_hosts())\n",
    "\n",
    "Qubit1 = q_map[\"QPU_1\"][2]\n",
    "Qubit2 = q_map[\"QPU_2\"][1]\n",
    "print(\"{} and {} are adjacent\".format(Qubit1, Qubit2) \n",
    "      if circuit_topo.are_adjacent(Qubit1, Qubit2) else \n",
    "      \"{} and {} are not adjacent\".format(Qubit1, Qubit2))\n",
    "\n",
    "for qubit in circuit_topo.qubits:\n",
    "    print(\"Qubit: {} --------- Host: {}\".format(qubit, circuit_topo.get_host(qubit)))"
   ]
  },
  {
   "cell_type": "markdown",
   "id": "143aaa95",
   "metadata": {},
   "source": [
    "##### Test for Layer object defined in inlin_layer.py"
   ]
  },
  {
   "cell_type": "code",
   "execution_count": 97,
   "id": "e632eb54",
   "metadata": {
    "ExecuteTime": {
     "end_time": "2022-12-07T05:09:52.715008Z",
     "start_time": "2022-12-07T05:09:52.684999Z"
    }
   },
   "outputs": [
    {
     "data": {
      "text/html": [
       "<pre style=\"word-wrap: normal;white-space: pre;background: #fff0;line-height: 1.1;font-family: &quot;Courier New&quot;,Courier,monospace\">       ┌───┐     ┌───┐          \n",
       "qr0_0: ┤ H ├──■──┤ X ├──────────\n",
       "       └───┘┌─┴─┐└─┬─┘          \n",
       "qr0_1: ─────┤ X ├──┼────────────\n",
       "            └───┘  │            \n",
       "qr0_2: ────────────■────■───────\n",
       "                      ┌─┴─┐┌───┐\n",
       "qr0_3: ───────────────┤ X ├┤ Y ├\n",
       "       ┌───┐          └───┘└───┘\n",
       "qr0_4: ┤ X ├────────────────────\n",
       "       └───┘                    </pre>"
      ],
      "text/plain": [
       "       ┌───┐     ┌───┐          \n",
       "qr0_0: ┤ H ├──■──┤ X ├──────────\n",
       "       └───┘┌─┴─┐└─┬─┘          \n",
       "qr0_1: ─────┤ X ├──┼────────────\n",
       "            └───┘  │            \n",
       "qr0_2: ────────────■────■───────\n",
       "                      ┌─┴─┐┌───┐\n",
       "qr0_3: ───────────────┤ X ├┤ Y ├\n",
       "       ┌───┐          └───┘└───┘\n",
       "qr0_4: ┤ X ├────────────────────\n",
       "       └───┘                    "
      ]
     },
     "execution_count": 97,
     "metadata": {},
     "output_type": "execute_result"
    }
   ],
   "source": [
    "qc = QuantumCircuit(qr0)\n",
    "qc.h(0)\n",
    "qc.cx(0,1)\n",
    "qc.cx(2,0)\n",
    "qc.cx(2,3)\n",
    "qc.x(4)\n",
    "qc.y(3)\n",
    "qc.draw()"
   ]
  },
  {
   "cell_type": "code",
   "execution_count": 98,
   "id": "0a3f4f62",
   "metadata": {
    "ExecuteTime": {
     "end_time": "2022-12-07T05:09:52.885104Z",
     "start_time": "2022-12-07T05:09:52.865102Z"
    }
   },
   "outputs": [
    {
     "data": {
      "text/plain": [
       "[[CircuitInstruction(operation=Instruction(name='h', num_qubits=1, num_clbits=0, params=[]), qubits=(Qubit(QuantumRegister(5, 'qr0'), 0),), clbits=()),\n",
       "  CircuitInstruction(operation=Instruction(name='x', num_qubits=1, num_clbits=0, params=[]), qubits=(Qubit(QuantumRegister(5, 'qr0'), 4),), clbits=())],\n",
       " [CircuitInstruction(operation=Instruction(name='cx', num_qubits=2, num_clbits=0, params=[]), qubits=(Qubit(QuantumRegister(5, 'qr0'), 0), Qubit(QuantumRegister(5, 'qr0'), 1)), clbits=())],\n",
       " [CircuitInstruction(operation=Instruction(name='cx', num_qubits=2, num_clbits=0, params=[]), qubits=(Qubit(QuantumRegister(5, 'qr0'), 2), Qubit(QuantumRegister(5, 'qr0'), 0)), clbits=())],\n",
       " [CircuitInstruction(operation=Instruction(name='cx', num_qubits=2, num_clbits=0, params=[]), qubits=(Qubit(QuantumRegister(5, 'qr0'), 2), Qubit(QuantumRegister(5, 'qr0'), 3)), clbits=())],\n",
       " [CircuitInstruction(operation=Instruction(name='y', num_qubits=1, num_clbits=0, params=[]), qubits=(Qubit(QuantumRegister(5, 'qr0'), 3),), clbits=())]]"
      ]
     },
     "execution_count": 98,
     "metadata": {},
     "output_type": "execute_result"
    }
   ],
   "source": [
    "circ_object = CircuitRemapper(qc, \"hi\")\n",
    "layers_here = circ_object._circuit_to_layers()\n",
    "layers_here"
   ]
  },
  {
   "cell_type": "code",
   "execution_count": 99,
   "id": "4382058e",
   "metadata": {
    "ExecuteTime": {
     "end_time": "2022-12-07T05:09:53.115246Z",
     "start_time": "2022-12-07T05:09:53.095251Z"
    }
   },
   "outputs": [
    {
     "name": "stdout",
     "output_type": "stream",
     "text": [
      "-CircuitInstruction(operation=Instruction(name='cx', num_qubits=2, num_clbits=0, params=[]), qubits=(Qubit(QuantumRegister(5, 'qr0'), 2), Qubit(QuantumRegister(5, 'qr0'), 3)), clbits=())-|\n",
      "\n"
     ]
    }
   ],
   "source": [
    "a_layer = Layer(layers_here[3], circuit_topo)\n",
    "print(a_layer)"
   ]
  },
  {
   "cell_type": "code",
   "execution_count": 100,
   "id": "6ef3012b",
   "metadata": {
    "ExecuteTime": {
     "end_time": "2022-12-07T05:09:53.355370Z",
     "start_time": "2022-12-07T05:09:53.335362Z"
    }
   },
   "outputs": [
    {
     "data": {
      "text/plain": [
       "[CircuitInstruction(operation=Instruction(name='cx', num_qubits=2, num_clbits=0, params=[]), qubits=(Qubit(QuantumRegister(5, 'qr0'), 2), Qubit(QuantumRegister(5, 'qr0'), 3)), clbits=())]"
      ]
     },
     "execution_count": 100,
     "metadata": {},
     "output_type": "execute_result"
    }
   ],
   "source": [
    "a_layer.non_local_operations()"
   ]
  },
  {
   "cell_type": "markdown",
   "id": "293e4d01",
   "metadata": {},
   "source": [
    "##### Cat Entangler"
   ]
  },
  {
   "cell_type": "code",
   "execution_count": 107,
   "id": "6626367f",
   "metadata": {
    "ExecuteTime": {
     "end_time": "2022-12-07T05:10:46.824479Z",
     "start_time": "2022-12-07T05:10:45.349058Z"
    },
    "scrolled": true
   },
   "outputs": [
    {
     "data": {
      "image/png": "[encoded data removed]",
      "text/plain": [
       "<Figure size 1422.42x385.28 with 1 Axes>"
      ]
     },
     "execution_count": 107,
     "metadata": {},
     "output_type": "execute_result"
    }
   ],
   "source": [
    "epr_qubits = QuantumRegister(2, \"epr\")\n",
    "opr_qubits = QuantumRegister(2, \"opr\")\n",
    "measure_bits = ClassicalRegister(2, \"incirc_measure\")\n",
    "final_cbits = ClassicalRegister(4, \"final_measure\")\n",
    "qc = QuantumCircuit(epr_qubits, opr_qubits, measure_bits, final_cbits)\n",
    "\n",
    "#check for opr_1 = 1 and opr_2 = 1\n",
    "# qc.x(2)\n",
    "qc.x(3)\n",
    "qc.barrier()\n",
    "\n",
    "# Generate EPR pair\n",
    "qc.h(0)\n",
    "qc.cx(0, 1)\n",
    "qc.barrier()\n",
    "# cat entanglement\n",
    "qc.cx(2,0)\n",
    "qc.measure(0,0)\n",
    "qc.x(1).c_if(measure_bits[0], 1)\n",
    "qc.barrier()\n",
    "qc.cx(1,3)\n",
    "qc.h(1)\n",
    "qc.measure(1,1)\n",
    "qc.z(2).c_if(measure_bits[1], 1)\n",
    "qc.barrier()\n",
    "qc.reset(epr_qubits)\n",
    "\n",
    "## Measurements\n",
    "qc.barrier()\n",
    "qc.measure(epr_qubits, final_cbits[0:2])\n",
    "qc.measure(opr_qubits, final_cbits[2:4])\n",
    "\n",
    "qc.draw(output='mpl')"
   ]
  },
  {
   "cell_type": "code",
   "execution_count": 108,
   "id": "7125ada1",
   "metadata": {
    "ExecuteTime": {
     "end_time": "2022-12-07T05:10:47.271642Z",
     "start_time": "2022-12-07T05:10:46.824479Z"
    }
   },
   "outputs": [
    {
     "name": "stdout",
     "output_type": "stream",
     "text": [
      "{'1000 01': 2013, '1000 00': 2081, '1000 10': 2023, '1000 11': 2075}\n"
     ]
    },
    {
     "data": {
      "image/png": "[encoded data removed]",
      "text/plain": [
       "<Figure size 504x360 with 1 Axes>"
      ]
     },
     "execution_count": 108,
     "metadata": {},
     "output_type": "execute_result"
    }
   ],
   "source": [
    "# run circuits on qasm simulator\n",
    "sim_count = measure_sim(qc=qc)\n",
    "print(sim_count)\n",
    "plot_histogram(sim_count)  # Display the output on measurement of state vector"
   ]
  },
  {
   "cell_type": "markdown",
   "id": "6ef6058d",
   "metadata": {},
   "source": [
    "The cat entangling scheme works"
   ]
  },
  {
   "cell_type": "code",
   "execution_count": null,
   "id": "19e2c793",
   "metadata": {},
   "outputs": [],
   "source": []
  },
  {
   "cell_type": "code",
   "execution_count": null,
   "id": "cc72d539",
   "metadata": {},
   "outputs": [],
   "source": []
  }
 ],
 "metadata": {
  "kernelspec": {
   "display_name": "Python 3 (ipykernel)",
   "language": "python",
   "name": "python3"
  },
  "language_info": {
   "codemirror_mode": {
    "name": "ipython",
    "version": 3
   },
   "file_extension": ".py",
   "mimetype": "text/x-python",
   "name": "python",
   "nbconvert_exporter": "python",
   "pygments_lexer": "ipython3",
   "version": "3.7.10"
  },
  "toc": {
   "base_numbering": 1,
   "nav_menu": {},
   "number_sections": true,
   "sideBar": true,
   "skip_h1_title": false,
   "title_cell": "Table of Contents",
   "title_sidebar": "Contents",
   "toc_cell": false,
   "toc_position": {},
   "toc_section_display": true,
   "toc_window_display": false
  }
 },
 "nbformat": 4,
 "nbformat_minor": 5
}
