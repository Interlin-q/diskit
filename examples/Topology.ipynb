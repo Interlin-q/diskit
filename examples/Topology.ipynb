{
 "cells": [
  {
   "cell_type": "code",
   "execution_count": 1,
   "id": "65935fec",
   "metadata": {
    "ExecuteTime": {
     "end_time": "2023-02-03T08:41:58.274070Z",
     "start_time": "2023-02-03T08:41:58.256821Z"
    },
    "tags": []
   },
   "outputs": [],
   "source": [
    "import sys\n",
    "sys.path.append(\"..\")\n",
    "from diskit import *\n",
    "import warnings\n",
    "\n",
    "warnings.filterwarnings(\"ignore\")"
   ]
  },
  {
   "cell_type": "markdown",
   "id": "c89ccca9",
   "metadata": {},
   "source": [
    "### Example to create a topology"
   ]
  },
  {
   "cell_type": "code",
   "execution_count": 2,
   "id": "b3798f21",
   "metadata": {
    "collapsed": false,
    "jupyter": {
     "outputs_hidden": false
    },
    "tags": []
   },
   "outputs": [
    {
     "data": {
      "text/plain": [
       "({'sys0': [Qubit(QuantumRegister(2, 'sys0'), 0),\n",
       "   Qubit(QuantumRegister(2, 'sys0'), 1)],\n",
       "  'sys1': [Qubit(QuantumRegister(3, 'sys1'), 0),\n",
       "   Qubit(QuantumRegister(3, 'sys1'), 1),\n",
       "   Qubit(QuantumRegister(3, 'sys1'), 2)],\n",
       "  'sys2': [Qubit(QuantumRegister(3, 'sys2'), 0),\n",
       "   Qubit(QuantumRegister(3, 'sys2'), 1),\n",
       "   Qubit(QuantumRegister(3, 'sys2'), 2)]},\n",
       " {'sys0': Qubit(QuantumRegister(1, 'com_sys0'), 0),\n",
       "  'sys1': Qubit(QuantumRegister(1, 'com_sys1'), 0),\n",
       "  'sys2': Qubit(QuantumRegister(1, 'com_sys2'), 0)})"
      ]
     },
     "execution_count": 2,
     "metadata": {},
     "output_type": "execute_result"
    }
   ],
   "source": [
    "circuit_topo = Topology()\n",
    "circuit_topo.create_qmap(3, [2, 3, 3], \"sys\")\n",
    "circuit_topo.qmap, circuit_topo.emap"
   ]
  },
  {
   "cell_type": "markdown",
   "id": "169d787d",
   "metadata": {},
   "source": [
    "In-built functions to support actions in topology class"
   ]
  },
  {
   "cell_type": "code",
   "execution_count": 3,
   "id": "afe696b3",
   "metadata": {
    "ExecuteTime": {
     "end_time": "2023-02-03T08:42:00.214160Z",
     "start_time": "2023-02-03T08:42:00.197002Z"
    },
    "tags": []
   },
   "outputs": [
    {
     "name": "stdout",
     "output_type": "stream",
     "text": [
      "Total Number of Qubits in Topology :  8\n",
      "Total Number of QPUs in Topology:  3\n",
      "Qubit(QuantumRegister(3, 'sys1'), 2) and Qubit(QuantumRegister(3, 'sys2'), 1) are not adjacent\n",
      "Qubit: Qubit(QuantumRegister(2, 'sys0'), 0) --------- Host: sys0\n",
      "Qubit: Qubit(QuantumRegister(2, 'sys0'), 1) --------- Host: sys0\n",
      "Qubit: Qubit(QuantumRegister(3, 'sys1'), 0) --------- Host: sys1\n",
      "Qubit: Qubit(QuantumRegister(3, 'sys1'), 1) --------- Host: sys1\n",
      "Qubit: Qubit(QuantumRegister(3, 'sys1'), 2) --------- Host: sys1\n",
      "Qubit: Qubit(QuantumRegister(3, 'sys2'), 0) --------- Host: sys2\n",
      "Qubit: Qubit(QuantumRegister(3, 'sys2'), 1) --------- Host: sys2\n",
      "Qubit: Qubit(QuantumRegister(3, 'sys2'), 2) --------- Host: sys2\n"
     ]
    }
   ],
   "source": [
    "print(\"Total Number of Qubits in Topology : \", circuit_topo.num_qubits())\n",
    "print(\"Total Number of QPUs in Topology: \", circuit_topo.num_hosts())\n",
    "\n",
    "Qubit1 = circuit_topo.qmap[\"sys1\"][2]\n",
    "Qubit2 = circuit_topo.qmap[\"sys2\"][1]\n",
    "print(\"{} and {} are adjacent\".format(Qubit1, Qubit2)\n",
    "      if circuit_topo.are_adjacent(Qubit1, Qubit2) else\n",
    "      \"{} and {} are not adjacent\".format(Qubit1, Qubit2))\n",
    "\n",
    "for qubit in circuit_topo.qubits:\n",
    "    print(\"Qubit: {} --------- Host: {}\".format(qubit, circuit_topo.get_host(qubit)))"
   ]
  },
  {
   "cell_type": "code",
   "execution_count": 4,
   "id": "e1a8ac9c",
   "metadata": {
    "ExecuteTime": {
     "end_time": "2023-02-05T12:47:27.459095Z",
     "start_time": "2023-02-05T12:47:21.275415Z"
    },
    "tags": []
   },
   "outputs": [
    {
     "data": {
      "text/html": [
       "<h3>Version Information</h3><table><tr><th>Software</th><th>Version</th></tr><tr><td><code>qiskit</code></td><td>0.44.0</td></tr><tr><td><code>qiskit-terra</code></td><td>0.25.0</td></tr><tr><th colspan='2'>System information</th></tr><tr><td>Python version</td><td>3.9.16</td></tr><tr><td>Python compiler</td><td>MSC v.1916 64 bit (AMD64)</td></tr><tr><td>Python build</td><td>main, Mar  8 2023 10:39:24</td></tr><tr><td>OS</td><td>Windows</td></tr><tr><td>CPUs</td><td>24</td></tr><tr><td>Memory (Gb)</td><td>127.74683380126953</td></tr><tr><td colspan='2'>Mon Aug 21 11:45:04 2023 GTB Daylight Time</td></tr></table>"
      ],
      "text/plain": [
       "<IPython.core.display.HTML object>"
      ]
     },
     "metadata": {},
     "output_type": "display_data"
    }
   ],
   "source": [
    "import qiskit.tools.jupyter\n",
    "%qiskit_version_table"
   ]
  },
  {
   "cell_type": "code",
   "execution_count": null,
   "id": "10d0237a",
   "metadata": {
    "collapsed": false,
    "jupyter": {
     "outputs_hidden": false
    }
   },
   "outputs": [],
   "source": []
  }
 ],
 "metadata": {
  "kernelspec": {
   "display_name": "Python 3 (ipykernel)",
   "language": "python",
   "name": "python3"
  },
  "language_info": {
   "codemirror_mode": {
    "name": "ipython",
    "version": 3
   },
   "file_extension": ".py",
   "mimetype": "text/x-python",
   "name": "python",
   "nbconvert_exporter": "python",
   "pygments_lexer": "ipython3",
   "version": "3.9.16"
  },
  "toc": {
   "base_numbering": 1,
   "nav_menu": {},
   "number_sections": true,
   "sideBar": true,
   "skip_h1_title": false,
   "title_cell": "Table of Contents",
   "title_sidebar": "Contents",
   "toc_cell": false,
   "toc_position": {},
   "toc_section_display": true,
   "toc_window_display": false
  }
 },
 "nbformat": 4,
 "nbformat_minor": 5
}
