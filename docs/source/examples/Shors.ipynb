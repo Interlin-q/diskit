{
 "cells": [
  {
   "cell_type": "code",
   "execution_count": null,
   "id": "8b60e095",
   "metadata": {
    "ExecuteTime": {
     "end_time": "2023-02-04T09:42:58.671242Z",
     "start_time": "2023-02-04T09:42:33.715486Z"
    },
    "pycharm": {
     "is_executing": true
    }
   },
   "outputs": [],
   "source": [
    "from qiskit import Aer\n",
    "from qiskit.utils import QuantumInstance\n",
    "from qiskit.algorithms import Shor"
   ]
  },
  {
   "cell_type": "markdown",
   "id": "928ff400",
   "metadata": {},
   "source": [
    "### Distribute Shor's Algorithm"
   ]
  },
  {
   "cell_type": "markdown",
   "id": "9b5a290f",
   "metadata": {},
   "source": [
    "Some parts of the code is taken from Qiskit Library"
   ]
  },
  {
   "cell_type": "code",
   "execution_count": 2,
   "id": "c671feed",
   "metadata": {
    "ExecuteTime": {
     "end_time": "2023-02-04T09:59:07.855813Z",
     "start_time": "2023-02-04T09:42:58.671242Z"
    }
   },
   "outputs": [
    {
     "name": "stdout",
     "output_type": "stream",
     "text": [
      "The list of factors of 51 as computed by the Shor's algorithm is [3, 17].\n"
     ]
    }
   ],
   "source": [
    "N = 51\n",
    "backend = Aer.get_backend('aer_simulator')\n",
    "quantum_instance = QuantumInstance(backend, shots=1024)\n",
    "shor = Shor(quantum_instance=quantum_instance)\n",
    "result = shor.factor(N)\n",
    "print(f\"The list of factors of {N} as computed by the Shor's algorithm is {result.factors[0]}.\")"
   ]
  },
  {
   "cell_type": "code",
   "execution_count": null,
   "id": "334404b0",
   "metadata": {},
   "outputs": [],
   "source": []
  }
 ],
 "metadata": {
  "kernelspec": {
   "display_name": "Python 3 (ipykernel)",
   "language": "python",
   "name": "python3"
  },
  "language_info": {
   "codemirror_mode": {
    "name": "ipython",
    "version": 3
   },
   "file_extension": ".py",
   "mimetype": "text/x-python",
   "name": "python",
   "nbconvert_exporter": "python",
   "pygments_lexer": "ipython3",
   "version": "3.7.10"
  },
  "toc": {
   "base_numbering": 1,
   "nav_menu": {},
   "number_sections": true,
   "sideBar": true,
   "skip_h1_title": false,
   "title_cell": "Table of Contents",
   "title_sidebar": "Contents",
   "toc_cell": false,
   "toc_position": {},
   "toc_section_display": true,
   "toc_window_display": false
  }
 },
 "nbformat": 4,
 "nbformat_minor": 5
}
